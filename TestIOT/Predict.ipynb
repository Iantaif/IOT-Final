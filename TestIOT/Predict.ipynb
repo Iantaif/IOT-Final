{
  "cells": [
    {
      "cell_type": "code",
      "execution_count": 1,
      "id": "06905eeb-329b-4baf-8c8c-877248296a39",
      "metadata": {
        "id": "06905eeb-329b-4baf-8c8c-877248296a39"
      },
      "outputs": [],
      "source": [
        "import pandas as pd\n",
        "\n",
        "weather = pd.read_csv('dataiot.csv', index_col=\"DATE\")"
      ]
    },
    {
      "cell_type": "code",
      "execution_count": 2,
      "id": "08517c6f-7f32-44b1-87c1-eee4e7e12e8d",
      "metadata": {
        "colab": {
          "base_uri": "https://localhost:8080/",
          "height": 455
        },
        "id": "08517c6f-7f32-44b1-87c1-eee4e7e12e8d",
        "outputId": "d952abe5-ae1b-4272-b102-4b7c71b6b6b2"
      },
      "outputs": [
        {
          "data": {
            "text/html": [
              "<div>\n",
              "<style scoped>\n",
              "    .dataframe tbody tr th:only-of-type {\n",
              "        vertical-align: middle;\n",
              "    }\n",
              "\n",
              "    .dataframe tbody tr th {\n",
              "        vertical-align: top;\n",
              "    }\n",
              "\n",
              "    .dataframe thead th {\n",
              "        text-align: right;\n",
              "    }\n",
              "</style>\n",
              "<table border=\"1\" class=\"dataframe\">\n",
              "  <thead>\n",
              "    <tr style=\"text-align: right;\">\n",
              "      <th></th>\n",
              "      <th>PRCP</th>\n",
              "      <th>TMAX</th>\n",
              "      <th>TMIN</th>\n",
              "    </tr>\n",
              "    <tr>\n",
              "      <th>DATE</th>\n",
              "      <th></th>\n",
              "      <th></th>\n",
              "      <th></th>\n",
              "    </tr>\n",
              "  </thead>\n",
              "  <tbody>\n",
              "    <tr>\n",
              "      <th>1/18/2024 0:35</th>\n",
              "      <td>0.01</td>\n",
              "      <td>27.1</td>\n",
              "      <td>27.1</td>\n",
              "    </tr>\n",
              "    <tr>\n",
              "      <th>1/18/2024 0:35</th>\n",
              "      <td>0.01</td>\n",
              "      <td>27.1</td>\n",
              "      <td>27.1</td>\n",
              "    </tr>\n",
              "    <tr>\n",
              "      <th>1/18/2024 0:35</th>\n",
              "      <td>0.01</td>\n",
              "      <td>27.1</td>\n",
              "      <td>27.1</td>\n",
              "    </tr>\n",
              "    <tr>\n",
              "      <th>1/18/2024 0:35</th>\n",
              "      <td>0.01</td>\n",
              "      <td>27.1</td>\n",
              "      <td>27.1</td>\n",
              "    </tr>\n",
              "    <tr>\n",
              "      <th>1/18/2024 0:35</th>\n",
              "      <td>0.01</td>\n",
              "      <td>27.1</td>\n",
              "      <td>27.1</td>\n",
              "    </tr>\n",
              "    <tr>\n",
              "      <th>...</th>\n",
              "      <td>...</td>\n",
              "      <td>...</td>\n",
              "      <td>...</td>\n",
              "    </tr>\n",
              "    <tr>\n",
              "      <th>1/18/2024 8:13</th>\n",
              "      <td>0.01</td>\n",
              "      <td>27.1</td>\n",
              "      <td>23.0</td>\n",
              "    </tr>\n",
              "    <tr>\n",
              "      <th>1/18/2024 8:13</th>\n",
              "      <td>0.01</td>\n",
              "      <td>27.1</td>\n",
              "      <td>23.0</td>\n",
              "    </tr>\n",
              "    <tr>\n",
              "      <th>1/18/2024 8:13</th>\n",
              "      <td>0.01</td>\n",
              "      <td>27.1</td>\n",
              "      <td>23.0</td>\n",
              "    </tr>\n",
              "    <tr>\n",
              "      <th>1/18/2024 8:13</th>\n",
              "      <td>0.01</td>\n",
              "      <td>27.1</td>\n",
              "      <td>23.0</td>\n",
              "    </tr>\n",
              "    <tr>\n",
              "      <th>1/18/2024 8:13</th>\n",
              "      <td>0.01</td>\n",
              "      <td>27.1</td>\n",
              "      <td>23.0</td>\n",
              "    </tr>\n",
              "  </tbody>\n",
              "</table>\n",
              "<p>5468 rows × 3 columns</p>\n",
              "</div>"
            ],
            "text/plain": [
              "                PRCP  TMAX  TMIN\n",
              "DATE                            \n",
              "1/18/2024 0:35  0.01  27.1  27.1\n",
              "1/18/2024 0:35  0.01  27.1  27.1\n",
              "1/18/2024 0:35  0.01  27.1  27.1\n",
              "1/18/2024 0:35  0.01  27.1  27.1\n",
              "1/18/2024 0:35  0.01  27.1  27.1\n",
              "...              ...   ...   ...\n",
              "1/18/2024 8:13  0.01  27.1  23.0\n",
              "1/18/2024 8:13  0.01  27.1  23.0\n",
              "1/18/2024 8:13  0.01  27.1  23.0\n",
              "1/18/2024 8:13  0.01  27.1  23.0\n",
              "1/18/2024 8:13  0.01  27.1  23.0\n",
              "\n",
              "[5468 rows x 3 columns]"
            ]
          },
          "execution_count": 2,
          "metadata": {},
          "output_type": "execute_result"
        }
      ],
      "source": [
        "weather"
      ]
    },
    {
      "cell_type": "code",
      "execution_count": 3,
      "id": "6b92c56c-0763-4693-a18d-ff371eedcee2",
      "metadata": {
        "colab": {
          "base_uri": "https://localhost:8080/"
        },
        "id": "6b92c56c-0763-4693-a18d-ff371eedcee2",
        "outputId": "cb5ef56e-2d54-45ee-e678-b7fbefdf4ae3"
      },
      "outputs": [
        {
          "data": {
            "text/plain": [
              "PRCP    0.0\n",
              "TMAX    0.0\n",
              "TMIN    0.0\n",
              "dtype: float64"
            ]
          },
          "execution_count": 3,
          "metadata": {},
          "output_type": "execute_result"
        }
      ],
      "source": [
        "null_pct = weather.apply(pd.isnull).sum()/weather.shape[0]\n",
        "null_pct"
      ]
    },
    {
      "cell_type": "code",
      "execution_count": 4,
      "id": "00c44eb8-4739-4a12-9f6c-7bd4e157c82d",
      "metadata": {
        "id": "00c44eb8-4739-4a12-9f6c-7bd4e157c82d"
      },
      "outputs": [],
      "source": [
        "weather.columns = weather.columns.str.lower()"
      ]
    },
    {
      "cell_type": "code",
      "execution_count": 5,
      "id": "fe4e0908-d644-42e5-b1b9-63435d46eb81",
      "metadata": {
        "colab": {
          "base_uri": "https://localhost:8080/",
          "height": 455
        },
        "id": "fe4e0908-d644-42e5-b1b9-63435d46eb81",
        "outputId": "8ea4283c-7e13-416e-c83c-07691b7d84a2"
      },
      "outputs": [
        {
          "data": {
            "text/html": [
              "<div>\n",
              "<style scoped>\n",
              "    .dataframe tbody tr th:only-of-type {\n",
              "        vertical-align: middle;\n",
              "    }\n",
              "\n",
              "    .dataframe tbody tr th {\n",
              "        vertical-align: top;\n",
              "    }\n",
              "\n",
              "    .dataframe thead th {\n",
              "        text-align: right;\n",
              "    }\n",
              "</style>\n",
              "<table border=\"1\" class=\"dataframe\">\n",
              "  <thead>\n",
              "    <tr style=\"text-align: right;\">\n",
              "      <th></th>\n",
              "      <th>prcp</th>\n",
              "      <th>tmax</th>\n",
              "      <th>tmin</th>\n",
              "    </tr>\n",
              "    <tr>\n",
              "      <th>DATE</th>\n",
              "      <th></th>\n",
              "      <th></th>\n",
              "      <th></th>\n",
              "    </tr>\n",
              "  </thead>\n",
              "  <tbody>\n",
              "    <tr>\n",
              "      <th>1/18/2024 0:35</th>\n",
              "      <td>0.01</td>\n",
              "      <td>27.1</td>\n",
              "      <td>27.1</td>\n",
              "    </tr>\n",
              "    <tr>\n",
              "      <th>1/18/2024 0:35</th>\n",
              "      <td>0.01</td>\n",
              "      <td>27.1</td>\n",
              "      <td>27.1</td>\n",
              "    </tr>\n",
              "    <tr>\n",
              "      <th>1/18/2024 0:35</th>\n",
              "      <td>0.01</td>\n",
              "      <td>27.1</td>\n",
              "      <td>27.1</td>\n",
              "    </tr>\n",
              "    <tr>\n",
              "      <th>1/18/2024 0:35</th>\n",
              "      <td>0.01</td>\n",
              "      <td>27.1</td>\n",
              "      <td>27.1</td>\n",
              "    </tr>\n",
              "    <tr>\n",
              "      <th>1/18/2024 0:35</th>\n",
              "      <td>0.01</td>\n",
              "      <td>27.1</td>\n",
              "      <td>27.1</td>\n",
              "    </tr>\n",
              "    <tr>\n",
              "      <th>...</th>\n",
              "      <td>...</td>\n",
              "      <td>...</td>\n",
              "      <td>...</td>\n",
              "    </tr>\n",
              "    <tr>\n",
              "      <th>1/18/2024 8:13</th>\n",
              "      <td>0.01</td>\n",
              "      <td>27.1</td>\n",
              "      <td>23.0</td>\n",
              "    </tr>\n",
              "    <tr>\n",
              "      <th>1/18/2024 8:13</th>\n",
              "      <td>0.01</td>\n",
              "      <td>27.1</td>\n",
              "      <td>23.0</td>\n",
              "    </tr>\n",
              "    <tr>\n",
              "      <th>1/18/2024 8:13</th>\n",
              "      <td>0.01</td>\n",
              "      <td>27.1</td>\n",
              "      <td>23.0</td>\n",
              "    </tr>\n",
              "    <tr>\n",
              "      <th>1/18/2024 8:13</th>\n",
              "      <td>0.01</td>\n",
              "      <td>27.1</td>\n",
              "      <td>23.0</td>\n",
              "    </tr>\n",
              "    <tr>\n",
              "      <th>1/18/2024 8:13</th>\n",
              "      <td>0.01</td>\n",
              "      <td>27.1</td>\n",
              "      <td>23.0</td>\n",
              "    </tr>\n",
              "  </tbody>\n",
              "</table>\n",
              "<p>5468 rows × 3 columns</p>\n",
              "</div>"
            ],
            "text/plain": [
              "                prcp  tmax  tmin\n",
              "DATE                            \n",
              "1/18/2024 0:35  0.01  27.1  27.1\n",
              "1/18/2024 0:35  0.01  27.1  27.1\n",
              "1/18/2024 0:35  0.01  27.1  27.1\n",
              "1/18/2024 0:35  0.01  27.1  27.1\n",
              "1/18/2024 0:35  0.01  27.1  27.1\n",
              "...              ...   ...   ...\n",
              "1/18/2024 8:13  0.01  27.1  23.0\n",
              "1/18/2024 8:13  0.01  27.1  23.0\n",
              "1/18/2024 8:13  0.01  27.1  23.0\n",
              "1/18/2024 8:13  0.01  27.1  23.0\n",
              "1/18/2024 8:13  0.01  27.1  23.0\n",
              "\n",
              "[5468 rows x 3 columns]"
            ]
          },
          "execution_count": 5,
          "metadata": {},
          "output_type": "execute_result"
        }
      ],
      "source": [
        "weather"
      ]
    },
    {
      "cell_type": "code",
      "execution_count": 6,
      "id": "d3bb0851-92c5-42aa-9f00-227dfa70d341",
      "metadata": {
        "colab": {
          "base_uri": "https://localhost:8080/"
        },
        "id": "d3bb0851-92c5-42aa-9f00-227dfa70d341",
        "outputId": "5fc05bb9-f44e-47a6-f34d-b33ca21d008e"
      },
      "outputs": [
        {
          "data": {
            "text/plain": [
              "prcp    float64\n",
              "tmax    float64\n",
              "tmin    float64\n",
              "dtype: object"
            ]
          },
          "execution_count": 6,
          "metadata": {},
          "output_type": "execute_result"
        }
      ],
      "source": [
        "weather.dtypes"
      ]
    },
    {
      "cell_type": "code",
      "execution_count": 7,
      "id": "d46af0b1-664d-4966-9544-18cdc861b1d8",
      "metadata": {
        "colab": {
          "base_uri": "https://localhost:8080/"
        },
        "id": "d46af0b1-664d-4966-9544-18cdc861b1d8",
        "outputId": "12473242-1964-4271-e594-492f12f34692"
      },
      "outputs": [
        {
          "data": {
            "text/plain": [
              "Index(['1/18/2024 0:35', '1/18/2024 0:35', '1/18/2024 0:35', '1/18/2024 0:35',\n",
              "       '1/18/2024 0:35', '1/18/2024 0:35', '1/18/2024 0:35', '1/18/2024 0:35',\n",
              "       '1/18/2024 0:35', '1/18/2024 0:35',\n",
              "       ...\n",
              "       '1/18/2024 8:12', '1/18/2024 8:13', '1/18/2024 8:13', '1/18/2024 8:13',\n",
              "       '1/18/2024 8:13', '1/18/2024 8:13', '1/18/2024 8:13', '1/18/2024 8:13',\n",
              "       '1/18/2024 8:13', '1/18/2024 8:13'],\n",
              "      dtype='object', name='DATE', length=5468)"
            ]
          },
          "execution_count": 7,
          "metadata": {},
          "output_type": "execute_result"
        }
      ],
      "source": [
        "weather.index"
      ]
    },
    {
      "cell_type": "code",
      "execution_count": 8,
      "id": "0265ead7-865b-46ae-875c-f4181cd65d81",
      "metadata": {
        "id": "0265ead7-865b-46ae-875c-f4181cd65d81"
      },
      "outputs": [],
      "source": [
        "weather.index = pd.to_datetime(weather.index)"
      ]
    },
    {
      "cell_type": "code",
      "execution_count": 9,
      "id": "246f310d-ebcf-4421-bf92-4839b228abea",
      "metadata": {
        "id": "246f310d-ebcf-4421-bf92-4839b228abea"
      },
      "outputs": [],
      "source": [
        "weather[\"target\"] = weather.shift(-1)[\"tmax\"]"
      ]
    },
    {
      "cell_type": "code",
      "execution_count": 10,
      "id": "b216b637-7ade-4a35-8171-fa2fe3fce1bc",
      "metadata": {
        "colab": {
          "base_uri": "https://localhost:8080/",
          "height": 455
        },
        "id": "b216b637-7ade-4a35-8171-fa2fe3fce1bc",
        "outputId": "842409c4-d234-4d11-e304-fd8df71a611a"
      },
      "outputs": [
        {
          "data": {
            "text/html": [
              "<div>\n",
              "<style scoped>\n",
              "    .dataframe tbody tr th:only-of-type {\n",
              "        vertical-align: middle;\n",
              "    }\n",
              "\n",
              "    .dataframe tbody tr th {\n",
              "        vertical-align: top;\n",
              "    }\n",
              "\n",
              "    .dataframe thead th {\n",
              "        text-align: right;\n",
              "    }\n",
              "</style>\n",
              "<table border=\"1\" class=\"dataframe\">\n",
              "  <thead>\n",
              "    <tr style=\"text-align: right;\">\n",
              "      <th></th>\n",
              "      <th>prcp</th>\n",
              "      <th>tmax</th>\n",
              "      <th>tmin</th>\n",
              "      <th>target</th>\n",
              "    </tr>\n",
              "    <tr>\n",
              "      <th>DATE</th>\n",
              "      <th></th>\n",
              "      <th></th>\n",
              "      <th></th>\n",
              "      <th></th>\n",
              "    </tr>\n",
              "  </thead>\n",
              "  <tbody>\n",
              "    <tr>\n",
              "      <th>2024-01-18 00:35:00</th>\n",
              "      <td>0.01</td>\n",
              "      <td>27.1</td>\n",
              "      <td>27.1</td>\n",
              "      <td>27.1</td>\n",
              "    </tr>\n",
              "    <tr>\n",
              "      <th>2024-01-18 00:35:00</th>\n",
              "      <td>0.01</td>\n",
              "      <td>27.1</td>\n",
              "      <td>27.1</td>\n",
              "      <td>27.1</td>\n",
              "    </tr>\n",
              "    <tr>\n",
              "      <th>2024-01-18 00:35:00</th>\n",
              "      <td>0.01</td>\n",
              "      <td>27.1</td>\n",
              "      <td>27.1</td>\n",
              "      <td>27.1</td>\n",
              "    </tr>\n",
              "    <tr>\n",
              "      <th>2024-01-18 00:35:00</th>\n",
              "      <td>0.01</td>\n",
              "      <td>27.1</td>\n",
              "      <td>27.1</td>\n",
              "      <td>27.1</td>\n",
              "    </tr>\n",
              "    <tr>\n",
              "      <th>2024-01-18 00:35:00</th>\n",
              "      <td>0.01</td>\n",
              "      <td>27.1</td>\n",
              "      <td>27.1</td>\n",
              "      <td>27.1</td>\n",
              "    </tr>\n",
              "    <tr>\n",
              "      <th>...</th>\n",
              "      <td>...</td>\n",
              "      <td>...</td>\n",
              "      <td>...</td>\n",
              "      <td>...</td>\n",
              "    </tr>\n",
              "    <tr>\n",
              "      <th>2024-01-18 08:13:00</th>\n",
              "      <td>0.01</td>\n",
              "      <td>27.1</td>\n",
              "      <td>23.0</td>\n",
              "      <td>27.1</td>\n",
              "    </tr>\n",
              "    <tr>\n",
              "      <th>2024-01-18 08:13:00</th>\n",
              "      <td>0.01</td>\n",
              "      <td>27.1</td>\n",
              "      <td>23.0</td>\n",
              "      <td>27.1</td>\n",
              "    </tr>\n",
              "    <tr>\n",
              "      <th>2024-01-18 08:13:00</th>\n",
              "      <td>0.01</td>\n",
              "      <td>27.1</td>\n",
              "      <td>23.0</td>\n",
              "      <td>27.1</td>\n",
              "    </tr>\n",
              "    <tr>\n",
              "      <th>2024-01-18 08:13:00</th>\n",
              "      <td>0.01</td>\n",
              "      <td>27.1</td>\n",
              "      <td>23.0</td>\n",
              "      <td>27.1</td>\n",
              "    </tr>\n",
              "    <tr>\n",
              "      <th>2024-01-18 08:13:00</th>\n",
              "      <td>0.01</td>\n",
              "      <td>27.1</td>\n",
              "      <td>23.0</td>\n",
              "      <td>NaN</td>\n",
              "    </tr>\n",
              "  </tbody>\n",
              "</table>\n",
              "<p>5468 rows × 4 columns</p>\n",
              "</div>"
            ],
            "text/plain": [
              "                     prcp  tmax  tmin  target\n",
              "DATE                                         \n",
              "2024-01-18 00:35:00  0.01  27.1  27.1    27.1\n",
              "2024-01-18 00:35:00  0.01  27.1  27.1    27.1\n",
              "2024-01-18 00:35:00  0.01  27.1  27.1    27.1\n",
              "2024-01-18 00:35:00  0.01  27.1  27.1    27.1\n",
              "2024-01-18 00:35:00  0.01  27.1  27.1    27.1\n",
              "...                   ...   ...   ...     ...\n",
              "2024-01-18 08:13:00  0.01  27.1  23.0    27.1\n",
              "2024-01-18 08:13:00  0.01  27.1  23.0    27.1\n",
              "2024-01-18 08:13:00  0.01  27.1  23.0    27.1\n",
              "2024-01-18 08:13:00  0.01  27.1  23.0    27.1\n",
              "2024-01-18 08:13:00  0.01  27.1  23.0     NaN\n",
              "\n",
              "[5468 rows x 4 columns]"
            ]
          },
          "execution_count": 10,
          "metadata": {},
          "output_type": "execute_result"
        }
      ],
      "source": [
        "weather"
      ]
    },
    {
      "cell_type": "code",
      "execution_count": 11,
      "id": "b66b7be4-b085-4e85-b90f-25464b5d1c2b",
      "metadata": {
        "id": "b66b7be4-b085-4e85-b90f-25464b5d1c2b"
      },
      "outputs": [],
      "source": [
        "weather = weather.ffill()"
      ]
    },
    {
      "cell_type": "code",
      "execution_count": 12,
      "id": "21bd450d-54f4-44da-895f-532af1b3c03a",
      "metadata": {
        "colab": {
          "base_uri": "https://localhost:8080/",
          "height": 455
        },
        "id": "21bd450d-54f4-44da-895f-532af1b3c03a",
        "outputId": "eef267b3-17a1-4b0a-d57d-a3dde86006c9"
      },
      "outputs": [
        {
          "data": {
            "text/html": [
              "<div>\n",
              "<style scoped>\n",
              "    .dataframe tbody tr th:only-of-type {\n",
              "        vertical-align: middle;\n",
              "    }\n",
              "\n",
              "    .dataframe tbody tr th {\n",
              "        vertical-align: top;\n",
              "    }\n",
              "\n",
              "    .dataframe thead th {\n",
              "        text-align: right;\n",
              "    }\n",
              "</style>\n",
              "<table border=\"1\" class=\"dataframe\">\n",
              "  <thead>\n",
              "    <tr style=\"text-align: right;\">\n",
              "      <th></th>\n",
              "      <th>prcp</th>\n",
              "      <th>tmax</th>\n",
              "      <th>tmin</th>\n",
              "      <th>target</th>\n",
              "    </tr>\n",
              "    <tr>\n",
              "      <th>DATE</th>\n",
              "      <th></th>\n",
              "      <th></th>\n",
              "      <th></th>\n",
              "      <th></th>\n",
              "    </tr>\n",
              "  </thead>\n",
              "  <tbody>\n",
              "    <tr>\n",
              "      <th>2024-01-18 00:35:00</th>\n",
              "      <td>0.01</td>\n",
              "      <td>27.1</td>\n",
              "      <td>27.1</td>\n",
              "      <td>27.1</td>\n",
              "    </tr>\n",
              "    <tr>\n",
              "      <th>2024-01-18 00:35:00</th>\n",
              "      <td>0.01</td>\n",
              "      <td>27.1</td>\n",
              "      <td>27.1</td>\n",
              "      <td>27.1</td>\n",
              "    </tr>\n",
              "    <tr>\n",
              "      <th>2024-01-18 00:35:00</th>\n",
              "      <td>0.01</td>\n",
              "      <td>27.1</td>\n",
              "      <td>27.1</td>\n",
              "      <td>27.1</td>\n",
              "    </tr>\n",
              "    <tr>\n",
              "      <th>2024-01-18 00:35:00</th>\n",
              "      <td>0.01</td>\n",
              "      <td>27.1</td>\n",
              "      <td>27.1</td>\n",
              "      <td>27.1</td>\n",
              "    </tr>\n",
              "    <tr>\n",
              "      <th>2024-01-18 00:35:00</th>\n",
              "      <td>0.01</td>\n",
              "      <td>27.1</td>\n",
              "      <td>27.1</td>\n",
              "      <td>27.1</td>\n",
              "    </tr>\n",
              "    <tr>\n",
              "      <th>...</th>\n",
              "      <td>...</td>\n",
              "      <td>...</td>\n",
              "      <td>...</td>\n",
              "      <td>...</td>\n",
              "    </tr>\n",
              "    <tr>\n",
              "      <th>2024-01-18 08:13:00</th>\n",
              "      <td>0.01</td>\n",
              "      <td>27.1</td>\n",
              "      <td>23.0</td>\n",
              "      <td>27.1</td>\n",
              "    </tr>\n",
              "    <tr>\n",
              "      <th>2024-01-18 08:13:00</th>\n",
              "      <td>0.01</td>\n",
              "      <td>27.1</td>\n",
              "      <td>23.0</td>\n",
              "      <td>27.1</td>\n",
              "    </tr>\n",
              "    <tr>\n",
              "      <th>2024-01-18 08:13:00</th>\n",
              "      <td>0.01</td>\n",
              "      <td>27.1</td>\n",
              "      <td>23.0</td>\n",
              "      <td>27.1</td>\n",
              "    </tr>\n",
              "    <tr>\n",
              "      <th>2024-01-18 08:13:00</th>\n",
              "      <td>0.01</td>\n",
              "      <td>27.1</td>\n",
              "      <td>23.0</td>\n",
              "      <td>27.1</td>\n",
              "    </tr>\n",
              "    <tr>\n",
              "      <th>2024-01-18 08:13:00</th>\n",
              "      <td>0.01</td>\n",
              "      <td>27.1</td>\n",
              "      <td>23.0</td>\n",
              "      <td>27.1</td>\n",
              "    </tr>\n",
              "  </tbody>\n",
              "</table>\n",
              "<p>5468 rows × 4 columns</p>\n",
              "</div>"
            ],
            "text/plain": [
              "                     prcp  tmax  tmin  target\n",
              "DATE                                         \n",
              "2024-01-18 00:35:00  0.01  27.1  27.1    27.1\n",
              "2024-01-18 00:35:00  0.01  27.1  27.1    27.1\n",
              "2024-01-18 00:35:00  0.01  27.1  27.1    27.1\n",
              "2024-01-18 00:35:00  0.01  27.1  27.1    27.1\n",
              "2024-01-18 00:35:00  0.01  27.1  27.1    27.1\n",
              "...                   ...   ...   ...     ...\n",
              "2024-01-18 08:13:00  0.01  27.1  23.0    27.1\n",
              "2024-01-18 08:13:00  0.01  27.1  23.0    27.1\n",
              "2024-01-18 08:13:00  0.01  27.1  23.0    27.1\n",
              "2024-01-18 08:13:00  0.01  27.1  23.0    27.1\n",
              "2024-01-18 08:13:00  0.01  27.1  23.0    27.1\n",
              "\n",
              "[5468 rows x 4 columns]"
            ]
          },
          "execution_count": 12,
          "metadata": {},
          "output_type": "execute_result"
        }
      ],
      "source": [
        "weather"
      ]
    },
    {
      "cell_type": "code",
      "execution_count": 13,
      "id": "f4a750d2-f0b2-478b-aa2f-c08af5e8980d",
      "metadata": {
        "id": "f4a750d2-f0b2-478b-aa2f-c08af5e8980d"
      },
      "outputs": [],
      "source": [
        "from sklearn.linear_model import Ridge\n",
        "\n",
        "rr = Ridge(alpha=.1)"
      ]
    },
    {
      "cell_type": "code",
      "execution_count": 14,
      "id": "e0b1af93-9235-4b4c-bc32-f0aa5fac7b7d",
      "metadata": {
        "id": "e0b1af93-9235-4b4c-bc32-f0aa5fac7b7d"
      },
      "outputs": [],
      "source": [
        "predictors = weather.columns[~weather.columns.isin([\"target\", \"name\", \"station\"])]"
      ]
    },
    {
      "cell_type": "code",
      "execution_count": 15,
      "id": "e3746963-9a97-4ba5-a7e8-670dc930de43",
      "metadata": {
        "id": "e3746963-9a97-4ba5-a7e8-670dc930de43"
      },
      "outputs": [],
      "source": [
        "def backtest(weather, model, predictors, start=3650, step=90):\n",
        "    all_predictions = []\n",
        "\n",
        "    for i in range(start, weather.shape[0], step):\n",
        "        train = weather.iloc[:i,:]\n",
        "        test = weather.iloc[i:(i+step),:]\n",
        "\n",
        "        model.fit(train[predictors], train[\"target\"])\n",
        "\n",
        "        preds = model.predict(test[predictors])\n",
        "        preds = pd.Series(preds, index=test.index)\n",
        "        combined = pd.concat([test[\"target\"], preds], axis=1)\n",
        "        combined.columns = [\"actual\", \"prediction\"]\n",
        "        combined[\"diff\"] = (combined[\"prediction\"] - combined[\"actual\"]).abs()\n",
        "\n",
        "        all_predictions.append(combined)\n",
        "    return pd.concat(all_predictions)"
      ]
    },
    {
      "cell_type": "code",
      "execution_count": 16,
      "id": "85ec72f5-4019-465e-ba12-e3dfe63175eb",
      "metadata": {
        "id": "85ec72f5-4019-465e-ba12-e3dfe63175eb"
      },
      "outputs": [],
      "source": [
        "predictions = backtest(weather, rr, predictors)"
      ]
    },
    {
      "cell_type": "code",
      "execution_count": 17,
      "id": "5073ff62-3dd2-4148-b6e1-03640782ae62",
      "metadata": {
        "colab": {
          "base_uri": "https://localhost:8080/",
          "height": 455
        },
        "id": "5073ff62-3dd2-4148-b6e1-03640782ae62",
        "outputId": "373dae9f-aee0-4fe6-e2e6-d277bd697717"
      },
      "outputs": [
        {
          "data": {
            "text/html": [
              "<div>\n",
              "<style scoped>\n",
              "    .dataframe tbody tr th:only-of-type {\n",
              "        vertical-align: middle;\n",
              "    }\n",
              "\n",
              "    .dataframe tbody tr th {\n",
              "        vertical-align: top;\n",
              "    }\n",
              "\n",
              "    .dataframe thead th {\n",
              "        text-align: right;\n",
              "    }\n",
              "</style>\n",
              "<table border=\"1\" class=\"dataframe\">\n",
              "  <thead>\n",
              "    <tr style=\"text-align: right;\">\n",
              "      <th></th>\n",
              "      <th>actual</th>\n",
              "      <th>prediction</th>\n",
              "      <th>diff</th>\n",
              "    </tr>\n",
              "    <tr>\n",
              "      <th>DATE</th>\n",
              "      <th></th>\n",
              "      <th></th>\n",
              "      <th></th>\n",
              "    </tr>\n",
              "  </thead>\n",
              "  <tbody>\n",
              "    <tr>\n",
              "      <th>2024-01-18 06:29:00</th>\n",
              "      <td>27.1</td>\n",
              "      <td>27.1</td>\n",
              "      <td>7.105427e-15</td>\n",
              "    </tr>\n",
              "    <tr>\n",
              "      <th>2024-01-18 06:23:00</th>\n",
              "      <td>27.1</td>\n",
              "      <td>27.1</td>\n",
              "      <td>7.105427e-15</td>\n",
              "    </tr>\n",
              "    <tr>\n",
              "      <th>2024-01-18 06:21:00</th>\n",
              "      <td>27.1</td>\n",
              "      <td>27.1</td>\n",
              "      <td>7.105427e-15</td>\n",
              "    </tr>\n",
              "    <tr>\n",
              "      <th>2024-01-18 06:21:00</th>\n",
              "      <td>27.1</td>\n",
              "      <td>27.1</td>\n",
              "      <td>7.105427e-15</td>\n",
              "    </tr>\n",
              "    <tr>\n",
              "      <th>2024-01-18 06:21:00</th>\n",
              "      <td>27.1</td>\n",
              "      <td>27.1</td>\n",
              "      <td>7.105427e-15</td>\n",
              "    </tr>\n",
              "    <tr>\n",
              "      <th>...</th>\n",
              "      <td>...</td>\n",
              "      <td>...</td>\n",
              "      <td>...</td>\n",
              "    </tr>\n",
              "    <tr>\n",
              "      <th>2024-01-18 07:20:00</th>\n",
              "      <td>27.1</td>\n",
              "      <td>27.1</td>\n",
              "      <td>0.000000e+00</td>\n",
              "    </tr>\n",
              "    <tr>\n",
              "      <th>2024-01-18 07:20:00</th>\n",
              "      <td>27.1</td>\n",
              "      <td>27.1</td>\n",
              "      <td>0.000000e+00</td>\n",
              "    </tr>\n",
              "    <tr>\n",
              "      <th>2024-01-18 07:20:00</th>\n",
              "      <td>27.1</td>\n",
              "      <td>27.1</td>\n",
              "      <td>0.000000e+00</td>\n",
              "    </tr>\n",
              "    <tr>\n",
              "      <th>2024-01-18 07:20:00</th>\n",
              "      <td>27.1</td>\n",
              "      <td>27.1</td>\n",
              "      <td>0.000000e+00</td>\n",
              "    </tr>\n",
              "    <tr>\n",
              "      <th>2024-01-18 08:13:00</th>\n",
              "      <td>27.1</td>\n",
              "      <td>27.1</td>\n",
              "      <td>0.000000e+00</td>\n",
              "    </tr>\n",
              "  </tbody>\n",
              "</table>\n",
              "<p>1818 rows × 3 columns</p>\n",
              "</div>"
            ],
            "text/plain": [
              "                     actual  prediction          diff\n",
              "DATE                                                 \n",
              "2024-01-18 06:29:00    27.1        27.1  7.105427e-15\n",
              "2024-01-18 06:23:00    27.1        27.1  7.105427e-15\n",
              "2024-01-18 06:21:00    27.1        27.1  7.105427e-15\n",
              "2024-01-18 06:21:00    27.1        27.1  7.105427e-15\n",
              "2024-01-18 06:21:00    27.1        27.1  7.105427e-15\n",
              "...                     ...         ...           ...\n",
              "2024-01-18 07:20:00    27.1        27.1  0.000000e+00\n",
              "2024-01-18 07:20:00    27.1        27.1  0.000000e+00\n",
              "2024-01-18 07:20:00    27.1        27.1  0.000000e+00\n",
              "2024-01-18 07:20:00    27.1        27.1  0.000000e+00\n",
              "2024-01-18 08:13:00    27.1        27.1  0.000000e+00\n",
              "\n",
              "[1818 rows x 3 columns]"
            ]
          },
          "execution_count": 17,
          "metadata": {},
          "output_type": "execute_result"
        }
      ],
      "source": [
        "predictions.sort_values(\"diff\", ascending=False)"
      ]
    },
    {
      "cell_type": "code",
      "execution_count": 18,
      "id": "0f5af9ae-8306-4814-85a3-0e98642ded85",
      "metadata": {
        "colab": {
          "base_uri": "https://localhost:8080/"
        },
        "id": "0f5af9ae-8306-4814-85a3-0e98642ded85",
        "outputId": "d0e74fee-04d3-48fe-9397-addaff88f1ef"
      },
      "outputs": [
        {
          "data": {
            "text/plain": [
              "prcp    0.0\n",
              "tmax    0.0\n",
              "tmin    0.0\n",
              "dtype: float64"
            ]
          },
          "execution_count": 18,
          "metadata": {},
          "output_type": "execute_result"
        }
      ],
      "source": [
        "pd.Series(rr.coef_, index=predictors)"
      ]
    },
    {
      "cell_type": "code",
      "execution_count": 19,
      "id": "6af4f22a-a9a9-4b65-8d49-3365da48b8ec",
      "metadata": {
        "id": "6af4f22a-a9a9-4b65-8d49-3365da48b8ec"
      },
      "outputs": [],
      "source": [
        "def pct_diff(old, new):\n",
        "    return (new - old) / old\n",
        "\n",
        "def compute_rolling(weather, horizon, col):\n",
        "    label = f\"rolling_{horizon}_{col}\"\n",
        "    weather[label] = weather[col].rolling(horizon).mean()\n",
        "    weather[f\"{label}_pct\"] = pct_diff(weather[label], weather[col])\n",
        "    return weather\n",
        "\n",
        "rolling_horizons = [3, 14]\n",
        "for horizon in rolling_horizons:\n",
        "    for col in [\"tmax\", \"tmin\", \"prcp\"]:\n",
        "        weather = compute_rolling(weather, horizon, col)"
      ]
    },
    {
      "cell_type": "code",
      "execution_count": 20,
      "id": "ff1ccc4b-e48a-40bf-9657-2cc1b5d0fdca",
      "metadata": {
        "id": "ff1ccc4b-e48a-40bf-9657-2cc1b5d0fdca"
      },
      "outputs": [],
      "source": [
        "def expand_mean(df):\n",
        "    return df.expanding(1).mean()\n",
        "\n",
        "for col in [\"tmax\", \"tmin\", \"prcp\"]:\n",
        "    weather[f\"month_avg_{col}\"] = weather[col].groupby(weather.index.month, group_keys=False).apply(expand_mean)\n",
        "    weather[f\"day_avg_{col}\"] = weather[col].groupby(weather.index.day_of_year, group_keys=False).apply(expand_mean)"
      ]
    },
    {
      "cell_type": "code",
      "execution_count": 21,
      "id": "9d568ccd-7364-4314-944e-f8d8aecd9a0e",
      "metadata": {
        "id": "9d568ccd-7364-4314-944e-f8d8aecd9a0e"
      },
      "outputs": [],
      "source": [
        "weather = weather.iloc[14:,:]\n",
        "weather = weather.fillna(0)"
      ]
    },
    {
      "cell_type": "code",
      "execution_count": 22,
      "id": "ad865034-621f-4e23-8eeb-bbe6469a6714",
      "metadata": {
        "id": "ad865034-621f-4e23-8eeb-bbe6469a6714"
      },
      "outputs": [],
      "source": [
        "predictors = weather.columns[~weather.columns.isin([\"target\"])]"
      ]
    },
    {
      "cell_type": "code",
      "execution_count": 23,
      "id": "c39ab4af-a1a8-4968-99b1-266afe31252a",
      "metadata": {
        "colab": {
          "base_uri": "https://localhost:8080/"
        },
        "id": "c39ab4af-a1a8-4968-99b1-266afe31252a",
        "outputId": "122a138e-917a-4a3f-b805-832080906d0c"
      },
      "outputs": [
        {
          "data": {
            "text/plain": [
              "3.1903526383906936e-15"
            ]
          },
          "execution_count": 23,
          "metadata": {},
          "output_type": "execute_result"
        }
      ],
      "source": [
        "from sklearn.metrics import mean_absolute_error, mean_squared_error\n",
        "predictions = backtest(weather, rr, predictors)\n",
        "mean_absolute_error(predictions[\"actual\"], predictions[\"prediction\"])"
      ]
    },
    {
      "cell_type": "code",
      "execution_count": 24,
      "id": "f6d386f0-7f51-495b-8b8b-1d66d16d0c1a",
      "metadata": {
        "colab": {
          "base_uri": "https://localhost:8080/"
        },
        "id": "f6d386f0-7f51-495b-8b8b-1d66d16d0c1a",
        "outputId": "0b7de47a-490f-4039-c8ec-af94704262e2"
      },
      "outputs": [
        {
          "data": {
            "text/plain": [
              "2.0150061259747352e-29"
            ]
          },
          "execution_count": 24,
          "metadata": {},
          "output_type": "execute_result"
        }
      ],
      "source": [
        "mean_squared_error(predictions[\"actual\"], predictions[\"prediction\"])"
      ]
    },
    {
      "cell_type": "code",
      "execution_count": 25,
      "id": "1b1a403f-71b3-41d4-a507-60af90e5606e",
      "metadata": {
        "colab": {
          "base_uri": "https://localhost:8080/",
          "height": 455
        },
        "id": "1b1a403f-71b3-41d4-a507-60af90e5606e",
        "outputId": "95ec6e99-e563-47d0-ff0d-d39e96a4038d"
      },
      "outputs": [
        {
          "data": {
            "text/html": [
              "<div>\n",
              "<style scoped>\n",
              "    .dataframe tbody tr th:only-of-type {\n",
              "        vertical-align: middle;\n",
              "    }\n",
              "\n",
              "    .dataframe tbody tr th {\n",
              "        vertical-align: top;\n",
              "    }\n",
              "\n",
              "    .dataframe thead th {\n",
              "        text-align: right;\n",
              "    }\n",
              "</style>\n",
              "<table border=\"1\" class=\"dataframe\">\n",
              "  <thead>\n",
              "    <tr style=\"text-align: right;\">\n",
              "      <th></th>\n",
              "      <th>actual</th>\n",
              "      <th>prediction</th>\n",
              "      <th>diff</th>\n",
              "    </tr>\n",
              "    <tr>\n",
              "      <th>DATE</th>\n",
              "      <th></th>\n",
              "      <th></th>\n",
              "      <th></th>\n",
              "    </tr>\n",
              "  </thead>\n",
              "  <tbody>\n",
              "    <tr>\n",
              "      <th>2024-01-18 06:30:00</th>\n",
              "      <td>27.1</td>\n",
              "      <td>27.1</td>\n",
              "      <td>7.105427e-15</td>\n",
              "    </tr>\n",
              "    <tr>\n",
              "      <th>2024-01-18 06:24:00</th>\n",
              "      <td>27.1</td>\n",
              "      <td>27.1</td>\n",
              "      <td>7.105427e-15</td>\n",
              "    </tr>\n",
              "    <tr>\n",
              "      <th>2024-01-18 06:22:00</th>\n",
              "      <td>27.1</td>\n",
              "      <td>27.1</td>\n",
              "      <td>7.105427e-15</td>\n",
              "    </tr>\n",
              "    <tr>\n",
              "      <th>2024-01-18 06:22:00</th>\n",
              "      <td>27.1</td>\n",
              "      <td>27.1</td>\n",
              "      <td>7.105427e-15</td>\n",
              "    </tr>\n",
              "    <tr>\n",
              "      <th>2024-01-18 06:22:00</th>\n",
              "      <td>27.1</td>\n",
              "      <td>27.1</td>\n",
              "      <td>7.105427e-15</td>\n",
              "    </tr>\n",
              "    <tr>\n",
              "      <th>...</th>\n",
              "      <td>...</td>\n",
              "      <td>...</td>\n",
              "      <td>...</td>\n",
              "    </tr>\n",
              "    <tr>\n",
              "      <th>2024-01-18 07:20:00</th>\n",
              "      <td>27.1</td>\n",
              "      <td>27.1</td>\n",
              "      <td>0.000000e+00</td>\n",
              "    </tr>\n",
              "    <tr>\n",
              "      <th>2024-01-18 07:20:00</th>\n",
              "      <td>27.1</td>\n",
              "      <td>27.1</td>\n",
              "      <td>0.000000e+00</td>\n",
              "    </tr>\n",
              "    <tr>\n",
              "      <th>2024-01-18 07:21:00</th>\n",
              "      <td>27.1</td>\n",
              "      <td>27.1</td>\n",
              "      <td>0.000000e+00</td>\n",
              "    </tr>\n",
              "    <tr>\n",
              "      <th>2024-01-18 07:21:00</th>\n",
              "      <td>27.1</td>\n",
              "      <td>27.1</td>\n",
              "      <td>0.000000e+00</td>\n",
              "    </tr>\n",
              "    <tr>\n",
              "      <th>2024-01-18 08:13:00</th>\n",
              "      <td>27.1</td>\n",
              "      <td>27.1</td>\n",
              "      <td>0.000000e+00</td>\n",
              "    </tr>\n",
              "  </tbody>\n",
              "</table>\n",
              "<p>1804 rows × 3 columns</p>\n",
              "</div>"
            ],
            "text/plain": [
              "                     actual  prediction          diff\n",
              "DATE                                                 \n",
              "2024-01-18 06:30:00    27.1        27.1  7.105427e-15\n",
              "2024-01-18 06:24:00    27.1        27.1  7.105427e-15\n",
              "2024-01-18 06:22:00    27.1        27.1  7.105427e-15\n",
              "2024-01-18 06:22:00    27.1        27.1  7.105427e-15\n",
              "2024-01-18 06:22:00    27.1        27.1  7.105427e-15\n",
              "...                     ...         ...           ...\n",
              "2024-01-18 07:20:00    27.1        27.1  0.000000e+00\n",
              "2024-01-18 07:20:00    27.1        27.1  0.000000e+00\n",
              "2024-01-18 07:21:00    27.1        27.1  0.000000e+00\n",
              "2024-01-18 07:21:00    27.1        27.1  0.000000e+00\n",
              "2024-01-18 08:13:00    27.1        27.1  0.000000e+00\n",
              "\n",
              "[1804 rows x 3 columns]"
            ]
          },
          "execution_count": 25,
          "metadata": {},
          "output_type": "execute_result"
        }
      ],
      "source": [
        "predictions.sort_values(\"diff\", ascending=False)"
      ]
    },
    {
      "cell_type": "code",
      "execution_count": 26,
      "id": "ukli3ENYCDA8",
      "metadata": {
        "colab": {
          "base_uri": "https://localhost:8080/"
        },
        "id": "ukli3ENYCDA8",
        "outputId": "fbfb04c5-b1ad-42a5-83c6-59e3496889a9"
      },
      "outputs": [
        {
          "data": {
            "text/plain": [
              "['ridge_model.joblib']"
            ]
          },
          "execution_count": 26,
          "metadata": {},
          "output_type": "execute_result"
        }
      ],
      "source": [
        "import joblib\n",
        "# Instantiate the Ridge model\n",
        "rr = Ridge(alpha=.1)\n",
        "\n",
        "# Train the model on the entire dataset\n",
        "rr.fit(weather[predictors], weather[\"target\"])\n",
        "\n",
        "# Save the model to a file\n",
        "model_filename = \"ridge_model.joblib\"\n",
        "joblib.dump(rr, model_filename)"
      ]
    },
    {
      "cell_type": "code",
      "execution_count": 29,
      "id": "bMoXJ-IxhQeD",
      "metadata": {
        "id": "bMoXJ-IxhQeD"
      },
      "outputs": [],
      "source": [
        "model_filename = \"ridge_model.joblib\"\n",
        "loaded_model = joblib.load(model_filename)\n"
      ]
    },
    {
      "cell_type": "code",
      "execution_count": 31,
      "id": "345b290d",
      "metadata": {},
      "outputs": [
        {
          "name": "stdout",
          "output_type": "stream",
          "text": [
            "Ridge model saved as ridge_model.pkl\n"
          ]
        }
      ],
      "source": [
        "import joblib\n",
        "import pickle\n",
        "\n",
        "# Load the Ridge model from the joblib file\n",
        "model_filename_joblib = \"ridge_model.joblib\"\n",
        "loaded_model = joblib.load(model_filename_joblib)\n",
        "\n",
        "# Save the model to a pickle file\n",
        "model_filename_pkl = \"ridge_model.pkl\"\n",
        "with open(model_filename_pkl, 'wb') as file:\n",
        "    pickle.dump(loaded_model, file)\n",
        "\n",
        "print(f\"Ridge model saved as {model_filename_pkl}\")\n"
      ]
    },
    {
      "cell_type": "code",
      "execution_count": 30,
      "id": "1iE1yzWLfjn-",
      "metadata": {
        "colab": {
          "base_uri": "https://localhost:8080/"
        },
        "id": "1iE1yzWLfjn-",
        "outputId": "eb1f81b2-023e-410c-ef07-99d18e36336c"
      },
      "outputs": [
        {
          "name": "stdout",
          "output_type": "stream",
          "text": [
            "                     Prediction\n",
            "2024-01-19 08:13:00        27.1\n"
          ]
        }
      ],
      "source": [
        "# Get the last date in the dataset\n",
        "last_date = weather.index[-1]\n",
        "\n",
        "# Create a new DataFrame with the same features as the current dataset for the next day\n",
        "new_date = last_date + pd.Timedelta(days=1)\n",
        "new_data = pd.DataFrame(index=[new_date], columns=predictors)\n",
        "\n",
        "# Get the values of the features for the last day and assign them to the new day\n",
        "last_values = weather[predictors].iloc[-1]\n",
        "new_data[predictors] = last_values.values\n",
        "\n",
        "# Ensure that the 'index' column of 'new_data' is of datetime type\n",
        "new_data.index = pd.to_datetime(new_data.index)\n",
        "\n",
        "# Use the Ridge model to predict for the next day\n",
        "prediction_for_next_day = loaded_model.predict(new_data[predictors])\n",
        "\n",
        "# Create a new DataFrame containing the prediction and the corresponding date\n",
        "prediction_df = pd.DataFrame(index=new_data.index, columns=[\"Prediction\"])\n",
        "prediction_df[\"Prediction\"] = prediction_for_next_day\n",
        "prediction_df[\"Prediction\"] = prediction_df[\"Prediction\"].round(2)\n",
        "# Display the prediction for the next day\n",
        "print(prediction_df)\n"
      ]
    }
  ],
  "metadata": {
    "colab": {
      "provenance": []
    },
    "kernelspec": {
      "display_name": "Python 3 (ipykernel)",
      "language": "python",
      "name": "python3"
    },
    "language_info": {
      "codemirror_mode": {
        "name": "ipython",
        "version": 3
      },
      "file_extension": ".py",
      "mimetype": "text/x-python",
      "name": "python",
      "nbconvert_exporter": "python",
      "pygments_lexer": "ipython3",
      "version": "3.11.5"
    }
  },
  "nbformat": 4,
  "nbformat_minor": 5
}
