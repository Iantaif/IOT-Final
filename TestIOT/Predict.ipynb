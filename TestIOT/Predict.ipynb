{
  "cells": [
    {
      "cell_type": "code",
      "execution_count": 2,
      "id": "06905eeb-329b-4baf-8c8c-877248296a39",
      "metadata": {
        "id": "06905eeb-329b-4baf-8c8c-877248296a39"
      },
      "outputs": [],
      "source": [
        "import pandas as pd\n",
        "\n",
        "weather = pd.read_csv(\"data1.csv\")"
      ]
    },
    {
      "cell_type": "code",
      "execution_count": 3,
      "id": "08517c6f-7f32-44b1-87c1-eee4e7e12e8d",
      "metadata": {
        "colab": {
          "base_uri": "https://localhost:8080/",
          "height": 455
        },
        "id": "08517c6f-7f32-44b1-87c1-eee4e7e12e8d",
        "outputId": "bd7a0f7f-d5e6-465d-c7ad-d74bdf38e9ec"
      },
      "outputs": [
        {
          "data": {
            "text/html": [
              "<div>\n",
              "<style scoped>\n",
              "    .dataframe tbody tr th:only-of-type {\n",
              "        vertical-align: middle;\n",
              "    }\n",
              "\n",
              "    .dataframe tbody tr th {\n",
              "        vertical-align: top;\n",
              "    }\n",
              "\n",
              "    .dataframe thead th {\n",
              "        text-align: right;\n",
              "    }\n",
              "</style>\n",
              "<table border=\"1\" class=\"dataframe\">\n",
              "  <thead>\n",
              "    <tr style=\"text-align: right;\">\n",
              "      <th></th>\n",
              "      <th>DATE</th>\n",
              "      <th>PRCP</th>\n",
              "      <th>TEMP</th>\n",
              "    </tr>\n",
              "  </thead>\n",
              "  <tbody>\n",
              "    <tr>\n",
              "      <th>0</th>\n",
              "      <td>2024-01-18 00:35:05</td>\n",
              "      <td>1</td>\n",
              "      <td>27.1</td>\n",
              "    </tr>\n",
              "    <tr>\n",
              "      <th>1</th>\n",
              "      <td>NaN</td>\n",
              "      <td>FALSE</td>\n",
              "      <td>FALSE</td>\n",
              "    </tr>\n",
              "    <tr>\n",
              "      <th>2</th>\n",
              "      <td>NaN</td>\n",
              "      <td>FALSE</td>\n",
              "      <td>FALSE</td>\n",
              "    </tr>\n",
              "    <tr>\n",
              "      <th>3</th>\n",
              "      <td>2024-01-18 00:35:10</td>\n",
              "      <td>1</td>\n",
              "      <td>27.1</td>\n",
              "    </tr>\n",
              "    <tr>\n",
              "      <th>4</th>\n",
              "      <td>NaN</td>\n",
              "      <td>FALSE</td>\n",
              "      <td>FALSE</td>\n",
              "    </tr>\n",
              "    <tr>\n",
              "      <th>...</th>\n",
              "      <td>...</td>\n",
              "      <td>...</td>\n",
              "      <td>...</td>\n",
              "    </tr>\n",
              "    <tr>\n",
              "      <th>16379</th>\n",
              "      <td>NaN</td>\n",
              "      <td>FALSE</td>\n",
              "      <td>FALSE</td>\n",
              "    </tr>\n",
              "    <tr>\n",
              "      <th>16380</th>\n",
              "      <td>NaN</td>\n",
              "      <td>FALSE</td>\n",
              "      <td>FALSE</td>\n",
              "    </tr>\n",
              "    <tr>\n",
              "      <th>16381</th>\n",
              "      <td>2024-01-18 08:13:43</td>\n",
              "      <td>1</td>\n",
              "      <td>25.3</td>\n",
              "    </tr>\n",
              "    <tr>\n",
              "      <th>16382</th>\n",
              "      <td>NaN</td>\n",
              "      <td>FALSE</td>\n",
              "      <td>FALSE</td>\n",
              "    </tr>\n",
              "    <tr>\n",
              "      <th>16383</th>\n",
              "      <td>NaN</td>\n",
              "      <td>FALSE</td>\n",
              "      <td>FALSE</td>\n",
              "    </tr>\n",
              "  </tbody>\n",
              "</table>\n",
              "<p>16384 rows × 3 columns</p>\n",
              "</div>"
            ],
            "text/plain": [
              "                     DATE    PRCP   TEMP\n",
              "0      2024-01-18 00:35:05      1   27.1\n",
              "1                      NaN  FALSE  FALSE\n",
              "2                      NaN  FALSE  FALSE\n",
              "3      2024-01-18 00:35:10      1   27.1\n",
              "4                      NaN  FALSE  FALSE\n",
              "...                    ...    ...    ...\n",
              "16379                  NaN  FALSE  FALSE\n",
              "16380                  NaN  FALSE  FALSE\n",
              "16381  2024-01-18 08:13:43      1   25.3\n",
              "16382                  NaN  FALSE  FALSE\n",
              "16383                  NaN  FALSE  FALSE\n",
              "\n",
              "[16384 rows x 3 columns]"
            ]
          },
          "execution_count": 3,
          "metadata": {},
          "output_type": "execute_result"
        }
      ],
      "source": [
        "weather"
      ]
    },
    {
      "cell_type": "code",
      "execution_count": 529,
      "id": "-GRkoQCyBSDY",
      "metadata": {
        "id": "-GRkoQCyBSDY"
      },
      "outputs": [],
      "source": [
        "weather['TMAX'] = pd.to_numeric(weather['TMAX'], errors='coerce').astype('Int64')\n",
        "weather['TMIN'] = pd.to_numeric(weather['TMIN'], errors='coerce').astype('Int64')"
      ]
    },
    {
      "cell_type": "code",
      "execution_count": 530,
      "id": "7038663f-d5fa-4e42-a49d-d2354c171e79",
      "metadata": {
        "id": "7038663f-d5fa-4e42-a49d-d2354c171e79"
      },
      "outputs": [],
      "source": [
        "weather = weather.ffill()"
      ]
    },
    {
      "cell_type": "code",
      "execution_count": 531,
      "id": "6b92c56c-0763-4693-a18d-ff371eedcee2",
      "metadata": {
        "colab": {
          "base_uri": "https://localhost:8080/"
        },
        "id": "6b92c56c-0763-4693-a18d-ff371eedcee2",
        "outputId": "3ae49f4c-14c6-45fc-887f-12ceb29c1eaa"
      },
      "outputs": [
        {
          "data": {
            "text/plain": [
              "STATION    0.0\n",
              "NAME       0.0\n",
              "PRCP       0.0\n",
              "TMAX       0.0\n",
              "TMIN       0.0\n",
              "dtype: float64"
            ]
          },
          "execution_count": 531,
          "metadata": {},
          "output_type": "execute_result"
        }
      ],
      "source": [
        "null_pct = weather.apply(pd.isnull).sum()/weather.shape[0]\n",
        "null_pct"
      ]
    },
    {
      "cell_type": "code",
      "execution_count": 532,
      "id": "50353966-9cb4-470f-82ce-736fba12a65b",
      "metadata": {
        "id": "50353966-9cb4-470f-82ce-736fba12a65b"
      },
      "outputs": [],
      "source": [
        "valid_columns = weather.columns[null_pct < .05]"
      ]
    },
    {
      "cell_type": "code",
      "execution_count": 533,
      "id": "2a0e07a6-0916-4b1f-a481-5b81b876b9c4",
      "metadata": {
        "colab": {
          "base_uri": "https://localhost:8080/"
        },
        "id": "2a0e07a6-0916-4b1f-a481-5b81b876b9c4",
        "outputId": "8bdbee9d-566a-45e7-b66c-b3581e40b60e"
      },
      "outputs": [
        {
          "data": {
            "text/plain": [
              "Index(['STATION', 'NAME', 'PRCP', 'TMAX', 'TMIN'], dtype='object')"
            ]
          },
          "execution_count": 533,
          "metadata": {},
          "output_type": "execute_result"
        }
      ],
      "source": [
        "valid_columns"
      ]
    },
    {
      "cell_type": "code",
      "execution_count": 534,
      "id": "5b501d9a-c57e-4a49-9150-f7c1e34670b6",
      "metadata": {
        "id": "5b501d9a-c57e-4a49-9150-f7c1e34670b6"
      },
      "outputs": [],
      "source": [
        "weather = weather[valid_columns].copy()"
      ]
    },
    {
      "cell_type": "code",
      "execution_count": 535,
      "id": "00c44eb8-4739-4a12-9f6c-7bd4e157c82d",
      "metadata": {
        "id": "00c44eb8-4739-4a12-9f6c-7bd4e157c82d"
      },
      "outputs": [],
      "source": [
        "weather.columns = weather.columns.str.lower()"
      ]
    },
    {
      "cell_type": "code",
      "execution_count": 536,
      "id": "fe4e0908-d644-42e5-b1b9-63435d46eb81",
      "metadata": {
        "colab": {
          "base_uri": "https://localhost:8080/",
          "height": 455
        },
        "id": "fe4e0908-d644-42e5-b1b9-63435d46eb81",
        "outputId": "fc4e0d43-4a33-4c94-daf6-7629d040cfb7"
      },
      "outputs": [
        {
          "data": {
            "text/html": [
              "<div>\n",
              "<style scoped>\n",
              "    .dataframe tbody tr th:only-of-type {\n",
              "        vertical-align: middle;\n",
              "    }\n",
              "\n",
              "    .dataframe tbody tr th {\n",
              "        vertical-align: top;\n",
              "    }\n",
              "\n",
              "    .dataframe thead th {\n",
              "        text-align: right;\n",
              "    }\n",
              "</style>\n",
              "<table border=\"1\" class=\"dataframe\">\n",
              "  <thead>\n",
              "    <tr style=\"text-align: right;\">\n",
              "      <th></th>\n",
              "      <th>station</th>\n",
              "      <th>name</th>\n",
              "      <th>prcp</th>\n",
              "      <th>tmax</th>\n",
              "      <th>tmin</th>\n",
              "    </tr>\n",
              "    <tr>\n",
              "      <th>DATE</th>\n",
              "      <th></th>\n",
              "      <th></th>\n",
              "      <th></th>\n",
              "      <th></th>\n",
              "      <th></th>\n",
              "    </tr>\n",
              "  </thead>\n",
              "  <tbody>\n",
              "    <tr>\n",
              "      <th>1/1/2003</th>\n",
              "      <td>VMM00048855</td>\n",
              "      <td>DANANG INTERNATIONAL, VM</td>\n",
              "      <td>0.17</td>\n",
              "      <td>26</td>\n",
              "      <td>20</td>\n",
              "    </tr>\n",
              "    <tr>\n",
              "      <th>1/2/2003</th>\n",
              "      <td>VMM00048855</td>\n",
              "      <td>DANANG INTERNATIONAL, VM</td>\n",
              "      <td>0.03</td>\n",
              "      <td>27</td>\n",
              "      <td>20</td>\n",
              "    </tr>\n",
              "    <tr>\n",
              "      <th>1/3/2003</th>\n",
              "      <td>VMM00048855</td>\n",
              "      <td>DANANG INTERNATIONAL, VM</td>\n",
              "      <td>0.10</td>\n",
              "      <td>24</td>\n",
              "      <td>20</td>\n",
              "    </tr>\n",
              "    <tr>\n",
              "      <th>1/4/2003</th>\n",
              "      <td>VMM00048855</td>\n",
              "      <td>DANANG INTERNATIONAL, VM</td>\n",
              "      <td>0.21</td>\n",
              "      <td>21</td>\n",
              "      <td>20</td>\n",
              "    </tr>\n",
              "    <tr>\n",
              "      <th>1/5/2003</th>\n",
              "      <td>VMM00048855</td>\n",
              "      <td>DANANG INTERNATIONAL, VM</td>\n",
              "      <td>0.31</td>\n",
              "      <td>23</td>\n",
              "      <td>20</td>\n",
              "    </tr>\n",
              "    <tr>\n",
              "      <th>...</th>\n",
              "      <td>...</td>\n",
              "      <td>...</td>\n",
              "      <td>...</td>\n",
              "      <td>...</td>\n",
              "      <td>...</td>\n",
              "    </tr>\n",
              "    <tr>\n",
              "      <th>1/14/2024</th>\n",
              "      <td>VMM00048855</td>\n",
              "      <td>DANANG INTERNATIONAL, VM</td>\n",
              "      <td>0.00</td>\n",
              "      <td>28</td>\n",
              "      <td>21</td>\n",
              "    </tr>\n",
              "    <tr>\n",
              "      <th>1/15/2024</th>\n",
              "      <td>VMM00048855</td>\n",
              "      <td>DANANG INTERNATIONAL, VM</td>\n",
              "      <td>0.07</td>\n",
              "      <td>27</td>\n",
              "      <td>21</td>\n",
              "    </tr>\n",
              "    <tr>\n",
              "      <th>1/16/2024</th>\n",
              "      <td>VMM00048855</td>\n",
              "      <td>DANANG INTERNATIONAL, VM</td>\n",
              "      <td>0.07</td>\n",
              "      <td>27</td>\n",
              "      <td>21</td>\n",
              "    </tr>\n",
              "    <tr>\n",
              "      <th>1/17/2024</th>\n",
              "      <td>VMM00048855</td>\n",
              "      <td>DANANG INTERNATIONAL, VM</td>\n",
              "      <td>0.00</td>\n",
              "      <td>27</td>\n",
              "      <td>21</td>\n",
              "    </tr>\n",
              "    <tr>\n",
              "      <th>1/18/2024</th>\n",
              "      <td>VMM00048855</td>\n",
              "      <td>DANANG INTERNATIONAL, VM</td>\n",
              "      <td>0.00</td>\n",
              "      <td>27</td>\n",
              "      <td>20</td>\n",
              "    </tr>\n",
              "  </tbody>\n",
              "</table>\n",
              "<p>7685 rows × 5 columns</p>\n",
              "</div>"
            ],
            "text/plain": [
              "               station                      name  prcp  tmax  tmin\n",
              "DATE                                                              \n",
              "1/1/2003   VMM00048855  DANANG INTERNATIONAL, VM  0.17    26    20\n",
              "1/2/2003   VMM00048855  DANANG INTERNATIONAL, VM  0.03    27    20\n",
              "1/3/2003   VMM00048855  DANANG INTERNATIONAL, VM  0.10    24    20\n",
              "1/4/2003   VMM00048855  DANANG INTERNATIONAL, VM  0.21    21    20\n",
              "1/5/2003   VMM00048855  DANANG INTERNATIONAL, VM  0.31    23    20\n",
              "...                ...                       ...   ...   ...   ...\n",
              "1/14/2024  VMM00048855  DANANG INTERNATIONAL, VM  0.00    28    21\n",
              "1/15/2024  VMM00048855  DANANG INTERNATIONAL, VM  0.07    27    21\n",
              "1/16/2024  VMM00048855  DANANG INTERNATIONAL, VM  0.07    27    21\n",
              "1/17/2024  VMM00048855  DANANG INTERNATIONAL, VM  0.00    27    21\n",
              "1/18/2024  VMM00048855  DANANG INTERNATIONAL, VM  0.00    27    20\n",
              "\n",
              "[7685 rows x 5 columns]"
            ]
          },
          "execution_count": 536,
          "metadata": {},
          "output_type": "execute_result"
        }
      ],
      "source": [
        "weather"
      ]
    },
    {
      "cell_type": "code",
      "execution_count": 537,
      "id": "3724aa95-5028-4f1d-a618-c0f9dcfc639b",
      "metadata": {
        "colab": {
          "base_uri": "https://localhost:8080/"
        },
        "id": "3724aa95-5028-4f1d-a618-c0f9dcfc639b",
        "outputId": "341277f2-610c-430b-fb6d-21e63f1a4d12"
      },
      "outputs": [
        {
          "data": {
            "text/plain": [
              "station    0\n",
              "name       0\n",
              "prcp       0\n",
              "tmax       0\n",
              "tmin       0\n",
              "dtype: int64"
            ]
          },
          "execution_count": 537,
          "metadata": {},
          "output_type": "execute_result"
        }
      ],
      "source": [
        "weather.apply(pd.isnull).sum()"
      ]
    },
    {
      "cell_type": "code",
      "execution_count": 538,
      "id": "81ffdb26-1dc4-4a2d-b78e-6f319c023717",
      "metadata": {
        "colab": {
          "base_uri": "https://localhost:8080/"
        },
        "id": "81ffdb26-1dc4-4a2d-b78e-6f319c023717",
        "outputId": "87f042c7-418b-4e52-9368-0a7d4fac6187"
      },
      "outputs": [
        {
          "data": {
            "text/plain": [
              "station    0\n",
              "name       0\n",
              "prcp       0\n",
              "tmax       0\n",
              "tmin       0\n",
              "dtype: int64"
            ]
          },
          "execution_count": 538,
          "metadata": {},
          "output_type": "execute_result"
        }
      ],
      "source": [
        "weather.apply(lambda x: (x == 9999).sum())"
      ]
    },
    {
      "cell_type": "code",
      "execution_count": 539,
      "id": "d3bb0851-92c5-42aa-9f00-227dfa70d341",
      "metadata": {
        "colab": {
          "base_uri": "https://localhost:8080/"
        },
        "id": "d3bb0851-92c5-42aa-9f00-227dfa70d341",
        "outputId": "f4f20813-f47c-4520-b423-5c7b856c0083"
      },
      "outputs": [
        {
          "data": {
            "text/plain": [
              "station     object\n",
              "name        object\n",
              "prcp       float64\n",
              "tmax         Int64\n",
              "tmin         Int64\n",
              "dtype: object"
            ]
          },
          "execution_count": 539,
          "metadata": {},
          "output_type": "execute_result"
        }
      ],
      "source": [
        "weather.dtypes"
      ]
    },
    {
      "cell_type": "code",
      "execution_count": 540,
      "id": "d46af0b1-664d-4966-9544-18cdc861b1d8",
      "metadata": {
        "colab": {
          "base_uri": "https://localhost:8080/"
        },
        "id": "d46af0b1-664d-4966-9544-18cdc861b1d8",
        "outputId": "10858518-3df2-4236-ca88-d52df69df322"
      },
      "outputs": [
        {
          "data": {
            "text/plain": [
              "Index(['1/1/2003', '1/2/2003', '1/3/2003', '1/4/2003', '1/5/2003', '1/6/2003',\n",
              "       '1/7/2003', '1/8/2003', '1/9/2003', '1/10/2003',\n",
              "       ...\n",
              "       '1/9/2024', '1/10/2024', '1/11/2024', '1/12/2024', '1/13/2024',\n",
              "       '1/14/2024', '1/15/2024', '1/16/2024', '1/17/2024', '1/18/2024'],\n",
              "      dtype='object', name='DATE', length=7685)"
            ]
          },
          "execution_count": 540,
          "metadata": {},
          "output_type": "execute_result"
        }
      ],
      "source": [
        "weather.index"
      ]
    },
    {
      "cell_type": "code",
      "execution_count": 541,
      "id": "0265ead7-865b-46ae-875c-f4181cd65d81",
      "metadata": {
        "id": "0265ead7-865b-46ae-875c-f4181cd65d81"
      },
      "outputs": [],
      "source": [
        "weather.index = pd.to_datetime(weather.index)"
      ]
    },
    {
      "cell_type": "code",
      "execution_count": 542,
      "id": "558b83ea-776f-4e2f-8612-d94ab3ae5c46",
      "metadata": {
        "colab": {
          "base_uri": "https://localhost:8080/"
        },
        "id": "558b83ea-776f-4e2f-8612-d94ab3ae5c46",
        "outputId": "10edc61f-8a12-4cf7-bf94-ddd44977bec8"
      },
      "outputs": [
        {
          "data": {
            "text/plain": [
              "DATE\n",
              "2003    365\n",
              "2004    366\n",
              "2005    365\n",
              "2006    365\n",
              "2007    365\n",
              "2008    366\n",
              "2009    365\n",
              "2010    365\n",
              "2011    365\n",
              "2012    366\n",
              "2013    365\n",
              "2014    365\n",
              "2015    365\n",
              "2016    366\n",
              "2017    365\n",
              "2018    365\n",
              "2019    365\n",
              "2020    366\n",
              "2021    362\n",
              "2022    365\n",
              "2023    365\n",
              "2024     18\n",
              "Name: count, dtype: int64"
            ]
          },
          "execution_count": 542,
          "metadata": {},
          "output_type": "execute_result"
        }
      ],
      "source": [
        "weather.index.year.value_counts().sort_index()"
      ]
    },
    {
      "cell_type": "code",
      "execution_count": 543,
      "id": "246f310d-ebcf-4421-bf92-4839b228abea",
      "metadata": {
        "id": "246f310d-ebcf-4421-bf92-4839b228abea"
      },
      "outputs": [],
      "source": [
        "weather[\"target\"] = weather.shift(-1)[\"tmax\"]"
      ]
    },
    {
      "cell_type": "code",
      "execution_count": 544,
      "id": "b216b637-7ade-4a35-8171-fa2fe3fce1bc",
      "metadata": {
        "colab": {
          "base_uri": "https://localhost:8080/",
          "height": 455
        },
        "id": "b216b637-7ade-4a35-8171-fa2fe3fce1bc",
        "outputId": "1404f196-70b7-478e-cba8-3e2b2fa46bfe"
      },
      "outputs": [
        {
          "data": {
            "text/html": [
              "<div>\n",
              "<style scoped>\n",
              "    .dataframe tbody tr th:only-of-type {\n",
              "        vertical-align: middle;\n",
              "    }\n",
              "\n",
              "    .dataframe tbody tr th {\n",
              "        vertical-align: top;\n",
              "    }\n",
              "\n",
              "    .dataframe thead th {\n",
              "        text-align: right;\n",
              "    }\n",
              "</style>\n",
              "<table border=\"1\" class=\"dataframe\">\n",
              "  <thead>\n",
              "    <tr style=\"text-align: right;\">\n",
              "      <th></th>\n",
              "      <th>station</th>\n",
              "      <th>name</th>\n",
              "      <th>prcp</th>\n",
              "      <th>tmax</th>\n",
              "      <th>tmin</th>\n",
              "      <th>target</th>\n",
              "    </tr>\n",
              "    <tr>\n",
              "      <th>DATE</th>\n",
              "      <th></th>\n",
              "      <th></th>\n",
              "      <th></th>\n",
              "      <th></th>\n",
              "      <th></th>\n",
              "      <th></th>\n",
              "    </tr>\n",
              "  </thead>\n",
              "  <tbody>\n",
              "    <tr>\n",
              "      <th>2003-01-01</th>\n",
              "      <td>VMM00048855</td>\n",
              "      <td>DANANG INTERNATIONAL, VM</td>\n",
              "      <td>0.17</td>\n",
              "      <td>26</td>\n",
              "      <td>20</td>\n",
              "      <td>27</td>\n",
              "    </tr>\n",
              "    <tr>\n",
              "      <th>2003-01-02</th>\n",
              "      <td>VMM00048855</td>\n",
              "      <td>DANANG INTERNATIONAL, VM</td>\n",
              "      <td>0.03</td>\n",
              "      <td>27</td>\n",
              "      <td>20</td>\n",
              "      <td>24</td>\n",
              "    </tr>\n",
              "    <tr>\n",
              "      <th>2003-01-03</th>\n",
              "      <td>VMM00048855</td>\n",
              "      <td>DANANG INTERNATIONAL, VM</td>\n",
              "      <td>0.10</td>\n",
              "      <td>24</td>\n",
              "      <td>20</td>\n",
              "      <td>21</td>\n",
              "    </tr>\n",
              "    <tr>\n",
              "      <th>2003-01-04</th>\n",
              "      <td>VMM00048855</td>\n",
              "      <td>DANANG INTERNATIONAL, VM</td>\n",
              "      <td>0.21</td>\n",
              "      <td>21</td>\n",
              "      <td>20</td>\n",
              "      <td>23</td>\n",
              "    </tr>\n",
              "    <tr>\n",
              "      <th>2003-01-05</th>\n",
              "      <td>VMM00048855</td>\n",
              "      <td>DANANG INTERNATIONAL, VM</td>\n",
              "      <td>0.31</td>\n",
              "      <td>23</td>\n",
              "      <td>20</td>\n",
              "      <td>22</td>\n",
              "    </tr>\n",
              "    <tr>\n",
              "      <th>...</th>\n",
              "      <td>...</td>\n",
              "      <td>...</td>\n",
              "      <td>...</td>\n",
              "      <td>...</td>\n",
              "      <td>...</td>\n",
              "      <td>...</td>\n",
              "    </tr>\n",
              "    <tr>\n",
              "      <th>2024-01-14</th>\n",
              "      <td>VMM00048855</td>\n",
              "      <td>DANANG INTERNATIONAL, VM</td>\n",
              "      <td>0.00</td>\n",
              "      <td>28</td>\n",
              "      <td>21</td>\n",
              "      <td>27</td>\n",
              "    </tr>\n",
              "    <tr>\n",
              "      <th>2024-01-15</th>\n",
              "      <td>VMM00048855</td>\n",
              "      <td>DANANG INTERNATIONAL, VM</td>\n",
              "      <td>0.07</td>\n",
              "      <td>27</td>\n",
              "      <td>21</td>\n",
              "      <td>27</td>\n",
              "    </tr>\n",
              "    <tr>\n",
              "      <th>2024-01-16</th>\n",
              "      <td>VMM00048855</td>\n",
              "      <td>DANANG INTERNATIONAL, VM</td>\n",
              "      <td>0.07</td>\n",
              "      <td>27</td>\n",
              "      <td>21</td>\n",
              "      <td>27</td>\n",
              "    </tr>\n",
              "    <tr>\n",
              "      <th>2024-01-17</th>\n",
              "      <td>VMM00048855</td>\n",
              "      <td>DANANG INTERNATIONAL, VM</td>\n",
              "      <td>0.00</td>\n",
              "      <td>27</td>\n",
              "      <td>21</td>\n",
              "      <td>27</td>\n",
              "    </tr>\n",
              "    <tr>\n",
              "      <th>2024-01-18</th>\n",
              "      <td>VMM00048855</td>\n",
              "      <td>DANANG INTERNATIONAL, VM</td>\n",
              "      <td>0.00</td>\n",
              "      <td>27</td>\n",
              "      <td>20</td>\n",
              "      <td>&lt;NA&gt;</td>\n",
              "    </tr>\n",
              "  </tbody>\n",
              "</table>\n",
              "<p>7685 rows × 6 columns</p>\n",
              "</div>"
            ],
            "text/plain": [
              "                station                      name  prcp  tmax  tmin  target\n",
              "DATE                                                                       \n",
              "2003-01-01  VMM00048855  DANANG INTERNATIONAL, VM  0.17    26    20      27\n",
              "2003-01-02  VMM00048855  DANANG INTERNATIONAL, VM  0.03    27    20      24\n",
              "2003-01-03  VMM00048855  DANANG INTERNATIONAL, VM  0.10    24    20      21\n",
              "2003-01-04  VMM00048855  DANANG INTERNATIONAL, VM  0.21    21    20      23\n",
              "2003-01-05  VMM00048855  DANANG INTERNATIONAL, VM  0.31    23    20      22\n",
              "...                 ...                       ...   ...   ...   ...     ...\n",
              "2024-01-14  VMM00048855  DANANG INTERNATIONAL, VM  0.00    28    21      27\n",
              "2024-01-15  VMM00048855  DANANG INTERNATIONAL, VM  0.07    27    21      27\n",
              "2024-01-16  VMM00048855  DANANG INTERNATIONAL, VM  0.07    27    21      27\n",
              "2024-01-17  VMM00048855  DANANG INTERNATIONAL, VM  0.00    27    21      27\n",
              "2024-01-18  VMM00048855  DANANG INTERNATIONAL, VM  0.00    27    20    <NA>\n",
              "\n",
              "[7685 rows x 6 columns]"
            ]
          },
          "execution_count": 544,
          "metadata": {},
          "output_type": "execute_result"
        }
      ],
      "source": [
        "weather"
      ]
    },
    {
      "cell_type": "code",
      "execution_count": 545,
      "id": "b66b7be4-b085-4e85-b90f-25464b5d1c2b",
      "metadata": {
        "id": "b66b7be4-b085-4e85-b90f-25464b5d1c2b"
      },
      "outputs": [],
      "source": [
        "weather = weather.ffill()"
      ]
    },
    {
      "cell_type": "code",
      "execution_count": 546,
      "id": "21bd450d-54f4-44da-895f-532af1b3c03a",
      "metadata": {
        "colab": {
          "base_uri": "https://localhost:8080/",
          "height": 455
        },
        "id": "21bd450d-54f4-44da-895f-532af1b3c03a",
        "outputId": "f3402414-eb69-4dc1-95a0-e736b05b1e13"
      },
      "outputs": [
        {
          "data": {
            "text/html": [
              "<div>\n",
              "<style scoped>\n",
              "    .dataframe tbody tr th:only-of-type {\n",
              "        vertical-align: middle;\n",
              "    }\n",
              "\n",
              "    .dataframe tbody tr th {\n",
              "        vertical-align: top;\n",
              "    }\n",
              "\n",
              "    .dataframe thead th {\n",
              "        text-align: right;\n",
              "    }\n",
              "</style>\n",
              "<table border=\"1\" class=\"dataframe\">\n",
              "  <thead>\n",
              "    <tr style=\"text-align: right;\">\n",
              "      <th></th>\n",
              "      <th>station</th>\n",
              "      <th>name</th>\n",
              "      <th>prcp</th>\n",
              "      <th>tmax</th>\n",
              "      <th>tmin</th>\n",
              "      <th>target</th>\n",
              "    </tr>\n",
              "    <tr>\n",
              "      <th>DATE</th>\n",
              "      <th></th>\n",
              "      <th></th>\n",
              "      <th></th>\n",
              "      <th></th>\n",
              "      <th></th>\n",
              "      <th></th>\n",
              "    </tr>\n",
              "  </thead>\n",
              "  <tbody>\n",
              "    <tr>\n",
              "      <th>2003-01-01</th>\n",
              "      <td>VMM00048855</td>\n",
              "      <td>DANANG INTERNATIONAL, VM</td>\n",
              "      <td>0.17</td>\n",
              "      <td>26</td>\n",
              "      <td>20</td>\n",
              "      <td>27</td>\n",
              "    </tr>\n",
              "    <tr>\n",
              "      <th>2003-01-02</th>\n",
              "      <td>VMM00048855</td>\n",
              "      <td>DANANG INTERNATIONAL, VM</td>\n",
              "      <td>0.03</td>\n",
              "      <td>27</td>\n",
              "      <td>20</td>\n",
              "      <td>24</td>\n",
              "    </tr>\n",
              "    <tr>\n",
              "      <th>2003-01-03</th>\n",
              "      <td>VMM00048855</td>\n",
              "      <td>DANANG INTERNATIONAL, VM</td>\n",
              "      <td>0.10</td>\n",
              "      <td>24</td>\n",
              "      <td>20</td>\n",
              "      <td>21</td>\n",
              "    </tr>\n",
              "    <tr>\n",
              "      <th>2003-01-04</th>\n",
              "      <td>VMM00048855</td>\n",
              "      <td>DANANG INTERNATIONAL, VM</td>\n",
              "      <td>0.21</td>\n",
              "      <td>21</td>\n",
              "      <td>20</td>\n",
              "      <td>23</td>\n",
              "    </tr>\n",
              "    <tr>\n",
              "      <th>2003-01-05</th>\n",
              "      <td>VMM00048855</td>\n",
              "      <td>DANANG INTERNATIONAL, VM</td>\n",
              "      <td>0.31</td>\n",
              "      <td>23</td>\n",
              "      <td>20</td>\n",
              "      <td>22</td>\n",
              "    </tr>\n",
              "    <tr>\n",
              "      <th>...</th>\n",
              "      <td>...</td>\n",
              "      <td>...</td>\n",
              "      <td>...</td>\n",
              "      <td>...</td>\n",
              "      <td>...</td>\n",
              "      <td>...</td>\n",
              "    </tr>\n",
              "    <tr>\n",
              "      <th>2024-01-14</th>\n",
              "      <td>VMM00048855</td>\n",
              "      <td>DANANG INTERNATIONAL, VM</td>\n",
              "      <td>0.00</td>\n",
              "      <td>28</td>\n",
              "      <td>21</td>\n",
              "      <td>27</td>\n",
              "    </tr>\n",
              "    <tr>\n",
              "      <th>2024-01-15</th>\n",
              "      <td>VMM00048855</td>\n",
              "      <td>DANANG INTERNATIONAL, VM</td>\n",
              "      <td>0.07</td>\n",
              "      <td>27</td>\n",
              "      <td>21</td>\n",
              "      <td>27</td>\n",
              "    </tr>\n",
              "    <tr>\n",
              "      <th>2024-01-16</th>\n",
              "      <td>VMM00048855</td>\n",
              "      <td>DANANG INTERNATIONAL, VM</td>\n",
              "      <td>0.07</td>\n",
              "      <td>27</td>\n",
              "      <td>21</td>\n",
              "      <td>27</td>\n",
              "    </tr>\n",
              "    <tr>\n",
              "      <th>2024-01-17</th>\n",
              "      <td>VMM00048855</td>\n",
              "      <td>DANANG INTERNATIONAL, VM</td>\n",
              "      <td>0.00</td>\n",
              "      <td>27</td>\n",
              "      <td>21</td>\n",
              "      <td>27</td>\n",
              "    </tr>\n",
              "    <tr>\n",
              "      <th>2024-01-18</th>\n",
              "      <td>VMM00048855</td>\n",
              "      <td>DANANG INTERNATIONAL, VM</td>\n",
              "      <td>0.00</td>\n",
              "      <td>27</td>\n",
              "      <td>20</td>\n",
              "      <td>27</td>\n",
              "    </tr>\n",
              "  </tbody>\n",
              "</table>\n",
              "<p>7685 rows × 6 columns</p>\n",
              "</div>"
            ],
            "text/plain": [
              "                station                      name  prcp  tmax  tmin  target\n",
              "DATE                                                                       \n",
              "2003-01-01  VMM00048855  DANANG INTERNATIONAL, VM  0.17    26    20      27\n",
              "2003-01-02  VMM00048855  DANANG INTERNATIONAL, VM  0.03    27    20      24\n",
              "2003-01-03  VMM00048855  DANANG INTERNATIONAL, VM  0.10    24    20      21\n",
              "2003-01-04  VMM00048855  DANANG INTERNATIONAL, VM  0.21    21    20      23\n",
              "2003-01-05  VMM00048855  DANANG INTERNATIONAL, VM  0.31    23    20      22\n",
              "...                 ...                       ...   ...   ...   ...     ...\n",
              "2024-01-14  VMM00048855  DANANG INTERNATIONAL, VM  0.00    28    21      27\n",
              "2024-01-15  VMM00048855  DANANG INTERNATIONAL, VM  0.07    27    21      27\n",
              "2024-01-16  VMM00048855  DANANG INTERNATIONAL, VM  0.07    27    21      27\n",
              "2024-01-17  VMM00048855  DANANG INTERNATIONAL, VM  0.00    27    21      27\n",
              "2024-01-18  VMM00048855  DANANG INTERNATIONAL, VM  0.00    27    20      27\n",
              "\n",
              "[7685 rows x 6 columns]"
            ]
          },
          "execution_count": 546,
          "metadata": {},
          "output_type": "execute_result"
        }
      ],
      "source": [
        "weather"
      ]
    },
    {
      "cell_type": "code",
      "execution_count": 547,
      "id": "f4a750d2-f0b2-478b-aa2f-c08af5e8980d",
      "metadata": {
        "id": "f4a750d2-f0b2-478b-aa2f-c08af5e8980d"
      },
      "outputs": [],
      "source": [
        "from sklearn.linear_model import Ridge\n",
        "\n",
        "rr = Ridge(alpha=.1)"
      ]
    },
    {
      "cell_type": "code",
      "execution_count": 548,
      "id": "e0b1af93-9235-4b4c-bc32-f0aa5fac7b7d",
      "metadata": {
        "id": "e0b1af93-9235-4b4c-bc32-f0aa5fac7b7d"
      },
      "outputs": [],
      "source": [
        "predictors = weather.columns[~weather.columns.isin([\"target\", \"name\", \"station\"])]\n"
      ]
    },
    {
      "cell_type": "code",
      "execution_count": 549,
      "id": "e3746963-9a97-4ba5-a7e8-670dc930de43",
      "metadata": {
        "id": "e3746963-9a97-4ba5-a7e8-670dc930de43"
      },
      "outputs": [],
      "source": [
        "def backtest(weather, model, predictors, start=3650, step=90):\n",
        "    all_predictions = []\n",
        "\n",
        "    for i in range(start, weather.shape[0], step):\n",
        "        train = weather.iloc[:i,:]\n",
        "        test = weather.iloc[i:(i+step),:]\n",
        "\n",
        "        model.fit(train[predictors], train[\"target\"])\n",
        "\n",
        "        preds = model.predict(test[predictors])\n",
        "        preds = pd.Series(preds, index=test.index)\n",
        "        combined = pd.concat([test[\"target\"], preds], axis=1)\n",
        "        combined.columns = [\"actual\", \"prediction\"]\n",
        "        combined[\"diff\"] = (combined[\"prediction\"] - combined[\"actual\"]).abs()\n",
        "\n",
        "        all_predictions.append(combined)\n",
        "    return pd.concat(all_predictions)"
      ]
    },
    {
      "cell_type": "code",
      "execution_count": 550,
      "id": "85ec72f5-4019-465e-ba12-e3dfe63175eb",
      "metadata": {
        "id": "85ec72f5-4019-465e-ba12-e3dfe63175eb"
      },
      "outputs": [],
      "source": [
        "predictions = backtest(weather, rr, predictors)"
      ]
    },
    {
      "cell_type": "code",
      "execution_count": 551,
      "id": "6ef8265b-ed34-4084-b938-045c7c574172",
      "metadata": {
        "colab": {
          "base_uri": "https://localhost:8080/"
        },
        "id": "6ef8265b-ed34-4084-b938-045c7c574172",
        "outputId": "d5a07911-8a8b-4a8d-bf5f-a34f6a0a9a91"
      },
      "outputs": [
        {
          "data": {
            "text/plain": [
              "0.7445906908061539"
            ]
          },
          "execution_count": 551,
          "metadata": {},
          "output_type": "execute_result"
        }
      ],
      "source": [
        "from sklearn.metrics import mean_absolute_error, mean_squared_error\n",
        "\n",
        "mean_absolute_error(predictions[\"actual\"], predictions[\"prediction\"])"
      ]
    },
    {
      "cell_type": "code",
      "execution_count": 552,
      "id": "5073ff62-3dd2-4148-b6e1-03640782ae62",
      "metadata": {
        "colab": {
          "base_uri": "https://localhost:8080/",
          "height": 455
        },
        "id": "5073ff62-3dd2-4148-b6e1-03640782ae62",
        "outputId": "b01f70d1-a6b2-4abe-aa6d-0281a9553d4f"
      },
      "outputs": [
        {
          "data": {
            "text/html": [
              "<div>\n",
              "<style scoped>\n",
              "    .dataframe tbody tr th:only-of-type {\n",
              "        vertical-align: middle;\n",
              "    }\n",
              "\n",
              "    .dataframe tbody tr th {\n",
              "        vertical-align: top;\n",
              "    }\n",
              "\n",
              "    .dataframe thead th {\n",
              "        text-align: right;\n",
              "    }\n",
              "</style>\n",
              "<table border=\"1\" class=\"dataframe\">\n",
              "  <thead>\n",
              "    <tr style=\"text-align: right;\">\n",
              "      <th></th>\n",
              "      <th>actual</th>\n",
              "      <th>prediction</th>\n",
              "      <th>diff</th>\n",
              "    </tr>\n",
              "    <tr>\n",
              "      <th>DATE</th>\n",
              "      <th></th>\n",
              "      <th></th>\n",
              "      <th></th>\n",
              "    </tr>\n",
              "  </thead>\n",
              "  <tbody>\n",
              "    <tr>\n",
              "      <th>2013-04-06</th>\n",
              "      <td>27</td>\n",
              "      <td>38.613061</td>\n",
              "      <td>11.613061</td>\n",
              "    </tr>\n",
              "    <tr>\n",
              "      <th>2016-09-07</th>\n",
              "      <td>34</td>\n",
              "      <td>22.397238</td>\n",
              "      <td>11.602762</td>\n",
              "    </tr>\n",
              "    <tr>\n",
              "      <th>2015-05-28</th>\n",
              "      <td>39</td>\n",
              "      <td>28.542411</td>\n",
              "      <td>10.457589</td>\n",
              "    </tr>\n",
              "    <tr>\n",
              "      <th>2017-11-30</th>\n",
              "      <td>33</td>\n",
              "      <td>22.760440</td>\n",
              "      <td>10.23956</td>\n",
              "    </tr>\n",
              "    <tr>\n",
              "      <th>2021-10-12</th>\n",
              "      <td>26</td>\n",
              "      <td>35.510184</td>\n",
              "      <td>9.510184</td>\n",
              "    </tr>\n",
              "    <tr>\n",
              "      <th>...</th>\n",
              "      <td>...</td>\n",
              "      <td>...</td>\n",
              "      <td>...</td>\n",
              "    </tr>\n",
              "    <tr>\n",
              "      <th>2023-11-08</th>\n",
              "      <td>31</td>\n",
              "      <td>30.999649</td>\n",
              "      <td>0.000351</td>\n",
              "    </tr>\n",
              "    <tr>\n",
              "      <th>2013-08-09</th>\n",
              "      <td>33</td>\n",
              "      <td>33.000165</td>\n",
              "      <td>0.000165</td>\n",
              "    </tr>\n",
              "    <tr>\n",
              "      <th>2013-07-04</th>\n",
              "      <td>33</td>\n",
              "      <td>33.000165</td>\n",
              "      <td>0.000165</td>\n",
              "    </tr>\n",
              "    <tr>\n",
              "      <th>2013-08-08</th>\n",
              "      <td>33</td>\n",
              "      <td>33.000165</td>\n",
              "      <td>0.000165</td>\n",
              "    </tr>\n",
              "    <tr>\n",
              "      <th>2013-07-05</th>\n",
              "      <td>33</td>\n",
              "      <td>33.000165</td>\n",
              "      <td>0.000165</td>\n",
              "    </tr>\n",
              "  </tbody>\n",
              "</table>\n",
              "<p>4035 rows × 3 columns</p>\n",
              "</div>"
            ],
            "text/plain": [
              "            actual  prediction       diff\n",
              "DATE                                     \n",
              "2013-04-06      27   38.613061  11.613061\n",
              "2016-09-07      34   22.397238  11.602762\n",
              "2015-05-28      39   28.542411  10.457589\n",
              "2017-11-30      33   22.760440   10.23956\n",
              "2021-10-12      26   35.510184   9.510184\n",
              "...            ...         ...        ...\n",
              "2023-11-08      31   30.999649   0.000351\n",
              "2013-08-09      33   33.000165   0.000165\n",
              "2013-07-04      33   33.000165   0.000165\n",
              "2013-08-08      33   33.000165   0.000165\n",
              "2013-07-05      33   33.000165   0.000165\n",
              "\n",
              "[4035 rows x 3 columns]"
            ]
          },
          "execution_count": 552,
          "metadata": {},
          "output_type": "execute_result"
        }
      ],
      "source": [
        "predictions.sort_values(\"diff\", ascending=False)"
      ]
    },
    {
      "cell_type": "code",
      "execution_count": 553,
      "id": "0f5af9ae-8306-4814-85a3-0e98642ded85",
      "metadata": {
        "colab": {
          "base_uri": "https://localhost:8080/"
        },
        "id": "0f5af9ae-8306-4814-85a3-0e98642ded85",
        "outputId": "89fbc480-b4ce-4508-ae01-304fe7dc61c9"
      },
      "outputs": [
        {
          "data": {
            "text/plain": [
              "prcp    0.018433\n",
              "tmax    0.909727\n",
              "tmin    0.076447\n",
              "dtype: float64"
            ]
          },
          "execution_count": 553,
          "metadata": {},
          "output_type": "execute_result"
        }
      ],
      "source": [
        "pd.Series(rr.coef_, index=predictors)"
      ]
    },
    {
      "cell_type": "code",
      "execution_count": 554,
      "id": "6af4f22a-a9a9-4b65-8d49-3365da48b8ec",
      "metadata": {
        "id": "6af4f22a-a9a9-4b65-8d49-3365da48b8ec"
      },
      "outputs": [],
      "source": [
        "def pct_diff(old, new):\n",
        "    return (new - old) / old\n",
        "\n",
        "def compute_rolling(weather, horizon, col):\n",
        "    label = f\"rolling_{horizon}_{col}\"\n",
        "    weather[label] = weather[col].rolling(horizon).mean()\n",
        "    weather[f\"{label}_pct\"] = pct_diff(weather[label], weather[col])\n",
        "    return weather\n",
        "\n",
        "rolling_horizons = [3, 14]\n",
        "for horizon in rolling_horizons:\n",
        "    for col in [\"tmax\", \"tmin\", \"prcp\"]:\n",
        "        weather = compute_rolling(weather, horizon, col)"
      ]
    },
    {
      "cell_type": "code",
      "execution_count": 555,
      "id": "ff1ccc4b-e48a-40bf-9657-2cc1b5d0fdca",
      "metadata": {
        "id": "ff1ccc4b-e48a-40bf-9657-2cc1b5d0fdca"
      },
      "outputs": [],
      "source": [
        "def expand_mean(df):\n",
        "    return df.expanding(1).mean()\n",
        "\n",
        "for col in [\"tmax\", \"tmin\", \"prcp\"]:\n",
        "    weather[f\"month_avg_{col}\"] = weather[col].groupby(weather.index.month, group_keys=False).apply(expand_mean)\n",
        "    weather[f\"day_avg_{col}\"] = weather[col].groupby(weather.index.day_of_year, group_keys=False).apply(expand_mean)"
      ]
    },
    {
      "cell_type": "code",
      "execution_count": 556,
      "id": "9d568ccd-7364-4314-944e-f8d8aecd9a0e",
      "metadata": {
        "id": "9d568ccd-7364-4314-944e-f8d8aecd9a0e"
      },
      "outputs": [],
      "source": [
        "weather = weather.iloc[14:,:]\n",
        "weather = weather.fillna(0)"
      ]
    },
    {
      "cell_type": "code",
      "execution_count": 557,
      "id": "ad865034-621f-4e23-8eeb-bbe6469a6714",
      "metadata": {
        "id": "ad865034-621f-4e23-8eeb-bbe6469a6714"
      },
      "outputs": [],
      "source": [
        "predictors = weather.columns[~weather.columns.isin([\"target\", \"name\", \"station\"])]"
      ]
    },
    {
      "cell_type": "code",
      "execution_count": 558,
      "id": "c39ab4af-a1a8-4968-99b1-266afe31252a",
      "metadata": {
        "colab": {
          "base_uri": "https://localhost:8080/"
        },
        "id": "c39ab4af-a1a8-4968-99b1-266afe31252a",
        "outputId": "80ca508a-a951-406d-f2f5-c147746d3d21"
      },
      "outputs": [
        {
          "data": {
            "text/plain": [
              "0.7827197695359664"
            ]
          },
          "execution_count": 558,
          "metadata": {},
          "output_type": "execute_result"
        }
      ],
      "source": [
        "predictions = backtest(weather, rr, predictors)\n",
        "mean_absolute_error(predictions[\"actual\"], predictions[\"prediction\"])"
      ]
    },
    {
      "cell_type": "code",
      "execution_count": 559,
      "id": "f6d386f0-7f51-495b-8b8b-1d66d16d0c1a",
      "metadata": {
        "colab": {
          "base_uri": "https://localhost:8080/"
        },
        "id": "f6d386f0-7f51-495b-8b8b-1d66d16d0c1a",
        "outputId": "b668acf3-64df-4f4f-9fb4-99ab038409e6"
      },
      "outputs": [
        {
          "data": {
            "text/plain": [
              "1.6317016274906186"
            ]
          },
          "execution_count": 559,
          "metadata": {},
          "output_type": "execute_result"
        }
      ],
      "source": [
        "mean_squared_error(predictions[\"actual\"], predictions[\"prediction\"])"
      ]
    },
    {
      "cell_type": "code",
      "execution_count": 560,
      "id": "1b1a403f-71b3-41d4-a507-60af90e5606e",
      "metadata": {
        "colab": {
          "base_uri": "https://localhost:8080/",
          "height": 455
        },
        "id": "1b1a403f-71b3-41d4-a507-60af90e5606e",
        "outputId": "b3e781cb-0b82-40b4-af46-34ca9e8df7ce"
      },
      "outputs": [
        {
          "data": {
            "text/html": [
              "<div>\n",
              "<style scoped>\n",
              "    .dataframe tbody tr th:only-of-type {\n",
              "        vertical-align: middle;\n",
              "    }\n",
              "\n",
              "    .dataframe tbody tr th {\n",
              "        vertical-align: top;\n",
              "    }\n",
              "\n",
              "    .dataframe thead th {\n",
              "        text-align: right;\n",
              "    }\n",
              "</style>\n",
              "<table border=\"1\" class=\"dataframe\">\n",
              "  <thead>\n",
              "    <tr style=\"text-align: right;\">\n",
              "      <th></th>\n",
              "      <th>actual</th>\n",
              "      <th>prediction</th>\n",
              "      <th>diff</th>\n",
              "    </tr>\n",
              "    <tr>\n",
              "      <th>DATE</th>\n",
              "      <th></th>\n",
              "      <th></th>\n",
              "      <th></th>\n",
              "    </tr>\n",
              "  </thead>\n",
              "  <tbody>\n",
              "    <tr>\n",
              "      <th>2016-09-07</th>\n",
              "      <td>34</td>\n",
              "      <td>21.367272</td>\n",
              "      <td>12.632728</td>\n",
              "    </tr>\n",
              "    <tr>\n",
              "      <th>2013-04-06</th>\n",
              "      <td>27</td>\n",
              "      <td>37.234244</td>\n",
              "      <td>10.234244</td>\n",
              "    </tr>\n",
              "    <tr>\n",
              "      <th>2015-05-28</th>\n",
              "      <td>39</td>\n",
              "      <td>28.869546</td>\n",
              "      <td>10.130454</td>\n",
              "    </tr>\n",
              "    <tr>\n",
              "      <th>2017-11-30</th>\n",
              "      <td>33</td>\n",
              "      <td>23.275421</td>\n",
              "      <td>9.724579</td>\n",
              "    </tr>\n",
              "    <tr>\n",
              "      <th>2021-10-12</th>\n",
              "      <td>26</td>\n",
              "      <td>35.490627</td>\n",
              "      <td>9.490627</td>\n",
              "    </tr>\n",
              "    <tr>\n",
              "      <th>...</th>\n",
              "      <td>...</td>\n",
              "      <td>...</td>\n",
              "      <td>...</td>\n",
              "    </tr>\n",
              "    <tr>\n",
              "      <th>2022-03-12</th>\n",
              "      <td>28</td>\n",
              "      <td>27.999370</td>\n",
              "      <td>0.00063</td>\n",
              "    </tr>\n",
              "    <tr>\n",
              "      <th>2019-04-08</th>\n",
              "      <td>31</td>\n",
              "      <td>30.999586</td>\n",
              "      <td>0.000414</td>\n",
              "    </tr>\n",
              "    <tr>\n",
              "      <th>2015-02-27</th>\n",
              "      <td>27</td>\n",
              "      <td>27.000399</td>\n",
              "      <td>0.000399</td>\n",
              "    </tr>\n",
              "    <tr>\n",
              "      <th>2015-02-26</th>\n",
              "      <td>27</td>\n",
              "      <td>27.000081</td>\n",
              "      <td>0.000081</td>\n",
              "    </tr>\n",
              "    <tr>\n",
              "      <th>2021-01-03</th>\n",
              "      <td>26</td>\n",
              "      <td>26.000012</td>\n",
              "      <td>0.000012</td>\n",
              "    </tr>\n",
              "  </tbody>\n",
              "</table>\n",
              "<p>4021 rows × 3 columns</p>\n",
              "</div>"
            ],
            "text/plain": [
              "            actual  prediction       diff\n",
              "DATE                                     \n",
              "2016-09-07      34   21.367272  12.632728\n",
              "2013-04-06      27   37.234244  10.234244\n",
              "2015-05-28      39   28.869546  10.130454\n",
              "2017-11-30      33   23.275421   9.724579\n",
              "2021-10-12      26   35.490627   9.490627\n",
              "...            ...         ...        ...\n",
              "2022-03-12      28   27.999370    0.00063\n",
              "2019-04-08      31   30.999586   0.000414\n",
              "2015-02-27      27   27.000399   0.000399\n",
              "2015-02-26      27   27.000081   0.000081\n",
              "2021-01-03      26   26.000012   0.000012\n",
              "\n",
              "[4021 rows x 3 columns]"
            ]
          },
          "execution_count": 560,
          "metadata": {},
          "output_type": "execute_result"
        }
      ],
      "source": [
        "predictions.sort_values(\"diff\", ascending=False)"
      ]
    },
    {
      "cell_type": "code",
      "execution_count": 561,
      "id": "18504068-4ed5-4cd3-a6f2-06294c8a90cc",
      "metadata": {
        "colab": {
          "base_uri": "https://localhost:8080/",
          "height": 658
        },
        "id": "18504068-4ed5-4cd3-a6f2-06294c8a90cc",
        "outputId": "47ec19a1-a91b-485b-e355-4ccb6426d1ad"
      },
      "outputs": [
        {
          "data": {
            "text/html": [
              "<div>\n",
              "<style scoped>\n",
              "    .dataframe tbody tr th:only-of-type {\n",
              "        vertical-align: middle;\n",
              "    }\n",
              "\n",
              "    .dataframe tbody tr th {\n",
              "        vertical-align: top;\n",
              "    }\n",
              "\n",
              "    .dataframe thead th {\n",
              "        text-align: right;\n",
              "    }\n",
              "</style>\n",
              "<table border=\"1\" class=\"dataframe\">\n",
              "  <thead>\n",
              "    <tr style=\"text-align: right;\">\n",
              "      <th></th>\n",
              "      <th>station</th>\n",
              "      <th>name</th>\n",
              "      <th>prcp</th>\n",
              "      <th>tmax</th>\n",
              "      <th>tmin</th>\n",
              "      <th>target</th>\n",
              "      <th>rolling_3_tmax</th>\n",
              "      <th>rolling_3_tmax_pct</th>\n",
              "      <th>rolling_3_tmin</th>\n",
              "      <th>rolling_3_tmin_pct</th>\n",
              "      <th>...</th>\n",
              "      <th>rolling_14_tmin</th>\n",
              "      <th>rolling_14_tmin_pct</th>\n",
              "      <th>rolling_14_prcp</th>\n",
              "      <th>rolling_14_prcp_pct</th>\n",
              "      <th>month_avg_tmax</th>\n",
              "      <th>day_avg_tmax</th>\n",
              "      <th>month_avg_tmin</th>\n",
              "      <th>day_avg_tmin</th>\n",
              "      <th>month_avg_prcp</th>\n",
              "      <th>day_avg_prcp</th>\n",
              "    </tr>\n",
              "    <tr>\n",
              "      <th>DATE</th>\n",
              "      <th></th>\n",
              "      <th></th>\n",
              "      <th></th>\n",
              "      <th></th>\n",
              "      <th></th>\n",
              "      <th></th>\n",
              "      <th></th>\n",
              "      <th></th>\n",
              "      <th></th>\n",
              "      <th></th>\n",
              "      <th></th>\n",
              "      <th></th>\n",
              "      <th></th>\n",
              "      <th></th>\n",
              "      <th></th>\n",
              "      <th></th>\n",
              "      <th></th>\n",
              "      <th></th>\n",
              "      <th></th>\n",
              "      <th></th>\n",
              "      <th></th>\n",
              "    </tr>\n",
              "  </thead>\n",
              "  <tbody>\n",
              "    <tr>\n",
              "      <th>2024-01-01</th>\n",
              "      <td>VMM00048855</td>\n",
              "      <td>DANANG INTERNATIONAL, VM</td>\n",
              "      <td>0.02</td>\n",
              "      <td>26</td>\n",
              "      <td>22</td>\n",
              "      <td>24</td>\n",
              "      <td>25.333333</td>\n",
              "      <td>0.026316</td>\n",
              "      <td>22.000000</td>\n",
              "      <td>0.0</td>\n",
              "      <td>...</td>\n",
              "      <td>19.857143</td>\n",
              "      <td>0.107914</td>\n",
              "      <td>0.693571</td>\n",
              "      <td>-0.971164</td>\n",
              "      <td>24.489264</td>\n",
              "      <td>24.409091</td>\n",
              "      <td>19.552147</td>\n",
              "      <td>20.181818</td>\n",
              "      <td>0.111887</td>\n",
              "      <td>0.179545</td>\n",
              "    </tr>\n",
              "    <tr>\n",
              "      <th>2024-01-02</th>\n",
              "      <td>VMM00048855</td>\n",
              "      <td>DANANG INTERNATIONAL, VM</td>\n",
              "      <td>0.51</td>\n",
              "      <td>24</td>\n",
              "      <td>22</td>\n",
              "      <td>28</td>\n",
              "      <td>25.000000</td>\n",
              "      <td>-0.04</td>\n",
              "      <td>22.000000</td>\n",
              "      <td>0.0</td>\n",
              "      <td>...</td>\n",
              "      <td>19.785714</td>\n",
              "      <td>0.111913</td>\n",
              "      <td>0.730000</td>\n",
              "      <td>-0.301370</td>\n",
              "      <td>24.488515</td>\n",
              "      <td>24.409091</td>\n",
              "      <td>19.555896</td>\n",
              "      <td>19.681818</td>\n",
              "      <td>0.112496</td>\n",
              "      <td>0.092727</td>\n",
              "    </tr>\n",
              "    <tr>\n",
              "      <th>2024-01-03</th>\n",
              "      <td>VMM00048855</td>\n",
              "      <td>DANANG INTERNATIONAL, VM</td>\n",
              "      <td>0.09</td>\n",
              "      <td>28</td>\n",
              "      <td>22</td>\n",
              "      <td>28</td>\n",
              "      <td>26.000000</td>\n",
              "      <td>0.076923</td>\n",
              "      <td>22.000000</td>\n",
              "      <td>0.0</td>\n",
              "      <td>...</td>\n",
              "      <td>19.928571</td>\n",
              "      <td>0.103943</td>\n",
              "      <td>0.642143</td>\n",
              "      <td>-0.859844</td>\n",
              "      <td>24.493884</td>\n",
              "      <td>25.045455</td>\n",
              "      <td>19.559633</td>\n",
              "      <td>19.954545</td>\n",
              "      <td>0.112462</td>\n",
              "      <td>0.068636</td>\n",
              "    </tr>\n",
              "    <tr>\n",
              "      <th>2024-01-04</th>\n",
              "      <td>VMM00048855</td>\n",
              "      <td>DANANG INTERNATIONAL, VM</td>\n",
              "      <td>0.00</td>\n",
              "      <td>28</td>\n",
              "      <td>21</td>\n",
              "      <td>28</td>\n",
              "      <td>26.666667</td>\n",
              "      <td>0.05</td>\n",
              "      <td>21.666667</td>\n",
              "      <td>-0.030769</td>\n",
              "      <td>...</td>\n",
              "      <td>20.142857</td>\n",
              "      <td>0.042553</td>\n",
              "      <td>0.417143</td>\n",
              "      <td>-1.000000</td>\n",
              "      <td>24.499237</td>\n",
              "      <td>25.227273</td>\n",
              "      <td>19.561832</td>\n",
              "      <td>19.954545</td>\n",
              "      <td>0.112290</td>\n",
              "      <td>0.097727</td>\n",
              "    </tr>\n",
              "    <tr>\n",
              "      <th>2024-01-05</th>\n",
              "      <td>VMM00048855</td>\n",
              "      <td>DANANG INTERNATIONAL, VM</td>\n",
              "      <td>0.00</td>\n",
              "      <td>28</td>\n",
              "      <td>21</td>\n",
              "      <td>27</td>\n",
              "      <td>28.000000</td>\n",
              "      <td>0.0</td>\n",
              "      <td>21.333333</td>\n",
              "      <td>-0.015625</td>\n",
              "      <td>...</td>\n",
              "      <td>20.357143</td>\n",
              "      <td>0.031579</td>\n",
              "      <td>0.242857</td>\n",
              "      <td>-1.000000</td>\n",
              "      <td>24.504573</td>\n",
              "      <td>25.272727</td>\n",
              "      <td>19.564024</td>\n",
              "      <td>20.181818</td>\n",
              "      <td>0.112119</td>\n",
              "      <td>0.125000</td>\n",
              "    </tr>\n",
              "    <tr>\n",
              "      <th>2024-01-06</th>\n",
              "      <td>VMM00048855</td>\n",
              "      <td>DANANG INTERNATIONAL, VM</td>\n",
              "      <td>0.00</td>\n",
              "      <td>27</td>\n",
              "      <td>23</td>\n",
              "      <td>25</td>\n",
              "      <td>27.666667</td>\n",
              "      <td>-0.024096</td>\n",
              "      <td>21.666667</td>\n",
              "      <td>0.061538</td>\n",
              "      <td>...</td>\n",
              "      <td>20.785714</td>\n",
              "      <td>0.106529</td>\n",
              "      <td>0.220714</td>\n",
              "      <td>-1.000000</td>\n",
              "      <td>24.508371</td>\n",
              "      <td>25.045455</td>\n",
              "      <td>19.569254</td>\n",
              "      <td>20.500000</td>\n",
              "      <td>0.111948</td>\n",
              "      <td>0.172273</td>\n",
              "    </tr>\n",
              "    <tr>\n",
              "      <th>2024-01-07</th>\n",
              "      <td>VMM00048855</td>\n",
              "      <td>DANANG INTERNATIONAL, VM</td>\n",
              "      <td>0.07</td>\n",
              "      <td>25</td>\n",
              "      <td>22</td>\n",
              "      <td>27</td>\n",
              "      <td>26.666667</td>\n",
              "      <td>-0.0625</td>\n",
              "      <td>22.000000</td>\n",
              "      <td>0.0</td>\n",
              "      <td>...</td>\n",
              "      <td>21.142857</td>\n",
              "      <td>0.040541</td>\n",
              "      <td>0.211429</td>\n",
              "      <td>-0.668919</td>\n",
              "      <td>24.509119</td>\n",
              "      <td>24.500000</td>\n",
              "      <td>19.572948</td>\n",
              "      <td>20.227273</td>\n",
              "      <td>0.111884</td>\n",
              "      <td>0.430455</td>\n",
              "    </tr>\n",
              "    <tr>\n",
              "      <th>2024-01-08</th>\n",
              "      <td>VMM00048855</td>\n",
              "      <td>DANANG INTERNATIONAL, VM</td>\n",
              "      <td>0.02</td>\n",
              "      <td>27</td>\n",
              "      <td>21</td>\n",
              "      <td>28</td>\n",
              "      <td>26.333333</td>\n",
              "      <td>0.025316</td>\n",
              "      <td>22.000000</td>\n",
              "      <td>-0.045455</td>\n",
              "      <td>...</td>\n",
              "      <td>21.357143</td>\n",
              "      <td>-0.016722</td>\n",
              "      <td>0.212857</td>\n",
              "      <td>-0.906040</td>\n",
              "      <td>24.512898</td>\n",
              "      <td>24.045455</td>\n",
              "      <td>19.575114</td>\n",
              "      <td>19.909091</td>\n",
              "      <td>0.111745</td>\n",
              "      <td>0.137273</td>\n",
              "    </tr>\n",
              "  </tbody>\n",
              "</table>\n",
              "<p>8 rows × 24 columns</p>\n",
              "</div>"
            ],
            "text/plain": [
              "                station                      name  prcp  tmax  tmin  target  \\\n",
              "DATE                                                                          \n",
              "2024-01-01  VMM00048855  DANANG INTERNATIONAL, VM  0.02    26    22      24   \n",
              "2024-01-02  VMM00048855  DANANG INTERNATIONAL, VM  0.51    24    22      28   \n",
              "2024-01-03  VMM00048855  DANANG INTERNATIONAL, VM  0.09    28    22      28   \n",
              "2024-01-04  VMM00048855  DANANG INTERNATIONAL, VM  0.00    28    21      28   \n",
              "2024-01-05  VMM00048855  DANANG INTERNATIONAL, VM  0.00    28    21      27   \n",
              "2024-01-06  VMM00048855  DANANG INTERNATIONAL, VM  0.00    27    23      25   \n",
              "2024-01-07  VMM00048855  DANANG INTERNATIONAL, VM  0.07    25    22      27   \n",
              "2024-01-08  VMM00048855  DANANG INTERNATIONAL, VM  0.02    27    21      28   \n",
              "\n",
              "            rolling_3_tmax  rolling_3_tmax_pct  rolling_3_tmin  \\\n",
              "DATE                                                             \n",
              "2024-01-01       25.333333            0.026316       22.000000   \n",
              "2024-01-02       25.000000               -0.04       22.000000   \n",
              "2024-01-03       26.000000            0.076923       22.000000   \n",
              "2024-01-04       26.666667                0.05       21.666667   \n",
              "2024-01-05       28.000000                 0.0       21.333333   \n",
              "2024-01-06       27.666667           -0.024096       21.666667   \n",
              "2024-01-07       26.666667             -0.0625       22.000000   \n",
              "2024-01-08       26.333333            0.025316       22.000000   \n",
              "\n",
              "            rolling_3_tmin_pct  ...  rolling_14_tmin  rolling_14_tmin_pct  \\\n",
              "DATE                            ...                                         \n",
              "2024-01-01                 0.0  ...        19.857143             0.107914   \n",
              "2024-01-02                 0.0  ...        19.785714             0.111913   \n",
              "2024-01-03                 0.0  ...        19.928571             0.103943   \n",
              "2024-01-04           -0.030769  ...        20.142857             0.042553   \n",
              "2024-01-05           -0.015625  ...        20.357143             0.031579   \n",
              "2024-01-06            0.061538  ...        20.785714             0.106529   \n",
              "2024-01-07                 0.0  ...        21.142857             0.040541   \n",
              "2024-01-08           -0.045455  ...        21.357143            -0.016722   \n",
              "\n",
              "            rolling_14_prcp  rolling_14_prcp_pct  month_avg_tmax  \\\n",
              "DATE                                                               \n",
              "2024-01-01         0.693571            -0.971164       24.489264   \n",
              "2024-01-02         0.730000            -0.301370       24.488515   \n",
              "2024-01-03         0.642143            -0.859844       24.493884   \n",
              "2024-01-04         0.417143            -1.000000       24.499237   \n",
              "2024-01-05         0.242857            -1.000000       24.504573   \n",
              "2024-01-06         0.220714            -1.000000       24.508371   \n",
              "2024-01-07         0.211429            -0.668919       24.509119   \n",
              "2024-01-08         0.212857            -0.906040       24.512898   \n",
              "\n",
              "            day_avg_tmax  month_avg_tmin  day_avg_tmin  month_avg_prcp  \\\n",
              "DATE                                                                     \n",
              "2024-01-01     24.409091       19.552147     20.181818        0.111887   \n",
              "2024-01-02     24.409091       19.555896     19.681818        0.112496   \n",
              "2024-01-03     25.045455       19.559633     19.954545        0.112462   \n",
              "2024-01-04     25.227273       19.561832     19.954545        0.112290   \n",
              "2024-01-05     25.272727       19.564024     20.181818        0.112119   \n",
              "2024-01-06     25.045455       19.569254     20.500000        0.111948   \n",
              "2024-01-07     24.500000       19.572948     20.227273        0.111884   \n",
              "2024-01-08     24.045455       19.575114     19.909091        0.111745   \n",
              "\n",
              "            day_avg_prcp  \n",
              "DATE                      \n",
              "2024-01-01      0.179545  \n",
              "2024-01-02      0.092727  \n",
              "2024-01-03      0.068636  \n",
              "2024-01-04      0.097727  \n",
              "2024-01-05      0.125000  \n",
              "2024-01-06      0.172273  \n",
              "2024-01-07      0.430455  \n",
              "2024-01-08      0.137273  \n",
              "\n",
              "[8 rows x 24 columns]"
            ]
          },
          "execution_count": 561,
          "metadata": {},
          "output_type": "execute_result"
        }
      ],
      "source": [
        "weather.loc[\"2024-01-01\": \"2024-01-08\"]"
      ]
    },
    {
      "cell_type": "code",
      "execution_count": 562,
      "id": "f00bb962-5b02-4fb3-a28b-56def4451c72",
      "metadata": {
        "colab": {
          "base_uri": "https://localhost:8080/",
          "height": 448
        },
        "id": "f00bb962-5b02-4fb3-a28b-56def4451c72",
        "outputId": "e5cf57ee-5edd-46df-c5be-e9f23476e1e4"
      },
      "outputs": [
        {
          "data": {
            "text/plain": [
              "<Axes: xlabel='diff'>"
            ]
          },
          "execution_count": 562,
          "metadata": {},
          "output_type": "execute_result"
        },
        {
          "data": {
            "image/png": "[encoded data removed]",
            "text/plain": [
              "<Figure size 640x480 with 1 Axes>"
            ]
          },
          "metadata": {},
          "output_type": "display_data"
        }
      ],
      "source": [
        "(predictions[\"diff\"].round().value_counts().sort_index() / predictions.shape[0]).plot()"
      ]
    },
    {
      "cell_type": "code",
      "execution_count": 563,
      "id": "e6aae835-e84f-43ad-b852-781ef63e981d",
      "metadata": {
        "colab": {
          "base_uri": "https://localhost:8080/",
          "height": 455
        },
        "id": "e6aae835-e84f-43ad-b852-781ef63e981d",
        "outputId": "a550ea00-e092-420a-c57a-f55d22d0efe7"
      },
      "outputs": [
        {
          "data": {
            "text/html": [
              "<div>\n",
              "<style scoped>\n",
              "    .dataframe tbody tr th:only-of-type {\n",
              "        vertical-align: middle;\n",
              "    }\n",
              "\n",
              "    .dataframe tbody tr th {\n",
              "        vertical-align: top;\n",
              "    }\n",
              "\n",
              "    .dataframe thead th {\n",
              "        text-align: right;\n",
              "    }\n",
              "</style>\n",
              "<table border=\"1\" class=\"dataframe\">\n",
              "  <thead>\n",
              "    <tr style=\"text-align: right;\">\n",
              "      <th></th>\n",
              "      <th>actual</th>\n",
              "      <th>prediction</th>\n",
              "      <th>diff</th>\n",
              "    </tr>\n",
              "    <tr>\n",
              "      <th>DATE</th>\n",
              "      <th></th>\n",
              "      <th></th>\n",
              "      <th></th>\n",
              "    </tr>\n",
              "  </thead>\n",
              "  <tbody>\n",
              "    <tr>\n",
              "      <th>2013-01-12</th>\n",
              "      <td>26</td>\n",
              "      <td>25.102108</td>\n",
              "      <td>0.897892</td>\n",
              "    </tr>\n",
              "    <tr>\n",
              "      <th>2013-01-13</th>\n",
              "      <td>25</td>\n",
              "      <td>25.786691</td>\n",
              "      <td>0.786691</td>\n",
              "    </tr>\n",
              "    <tr>\n",
              "      <th>2013-01-14</th>\n",
              "      <td>26</td>\n",
              "      <td>24.769440</td>\n",
              "      <td>1.23056</td>\n",
              "    </tr>\n",
              "    <tr>\n",
              "      <th>2013-01-15</th>\n",
              "      <td>26</td>\n",
              "      <td>25.516720</td>\n",
              "      <td>0.48328</td>\n",
              "    </tr>\n",
              "    <tr>\n",
              "      <th>2013-01-16</th>\n",
              "      <td>26</td>\n",
              "      <td>25.581661</td>\n",
              "      <td>0.418339</td>\n",
              "    </tr>\n",
              "    <tr>\n",
              "      <th>...</th>\n",
              "      <td>...</td>\n",
              "      <td>...</td>\n",
              "      <td>...</td>\n",
              "    </tr>\n",
              "    <tr>\n",
              "      <th>2024-01-14</th>\n",
              "      <td>27</td>\n",
              "      <td>27.520237</td>\n",
              "      <td>0.520237</td>\n",
              "    </tr>\n",
              "    <tr>\n",
              "      <th>2024-01-15</th>\n",
              "      <td>27</td>\n",
              "      <td>26.653954</td>\n",
              "      <td>0.346046</td>\n",
              "    </tr>\n",
              "    <tr>\n",
              "      <th>2024-01-16</th>\n",
              "      <td>27</td>\n",
              "      <td>26.735515</td>\n",
              "      <td>0.264485</td>\n",
              "    </tr>\n",
              "    <tr>\n",
              "      <th>2024-01-17</th>\n",
              "      <td>27</td>\n",
              "      <td>26.867579</td>\n",
              "      <td>0.132421</td>\n",
              "    </tr>\n",
              "    <tr>\n",
              "      <th>2024-01-18</th>\n",
              "      <td>27</td>\n",
              "      <td>26.840257</td>\n",
              "      <td>0.159743</td>\n",
              "    </tr>\n",
              "  </tbody>\n",
              "</table>\n",
              "<p>4021 rows × 3 columns</p>\n",
              "</div>"
            ],
            "text/plain": [
              "            actual  prediction      diff\n",
              "DATE                                    \n",
              "2013-01-12      26   25.102108  0.897892\n",
              "2013-01-13      25   25.786691  0.786691\n",
              "2013-01-14      26   24.769440   1.23056\n",
              "2013-01-15      26   25.516720   0.48328\n",
              "2013-01-16      26   25.581661  0.418339\n",
              "...            ...         ...       ...\n",
              "2024-01-14      27   27.520237  0.520237\n",
              "2024-01-15      27   26.653954  0.346046\n",
              "2024-01-16      27   26.735515  0.264485\n",
              "2024-01-17      27   26.867579  0.132421\n",
              "2024-01-18      27   26.840257  0.159743\n",
              "\n",
              "[4021 rows x 3 columns]"
            ]
          },
          "execution_count": 563,
          "metadata": {},
          "output_type": "execute_result"
        }
      ],
      "source": [
        "predictions"
      ]
    },
    {
      "cell_type": "code",
      "execution_count": 564,
      "id": "ukli3ENYCDA8",
      "metadata": {
        "colab": {
          "base_uri": "https://localhost:8080/"
        },
        "id": "ukli3ENYCDA8",
        "outputId": "bdd7c851-abd3-45d5-9f78-a0a2c90a8aad"
      },
      "outputs": [
        {
          "data": {
            "text/plain": [
              "['ridge_model.joblib']"
            ]
          },
          "execution_count": 564,
          "metadata": {},
          "output_type": "execute_result"
        }
      ],
      "source": [
        "import joblib\n",
        "# Instantiate the Ridge model\n",
        "rr = Ridge(alpha=.1)\n",
        "\n",
        "# Train the model on the entire dataset\n",
        "rr.fit(weather[predictors], weather[\"target\"])\n",
        "\n",
        "# Save the model to a file\n",
        "model_filename = \"ridge_model.joblib\"\n",
        "joblib.dump(rr, model_filename)"
      ]
    },
    {
      "cell_type": "code",
      "execution_count": 565,
      "id": "bMoXJ-IxhQeD",
      "metadata": {
        "id": "bMoXJ-IxhQeD"
      },
      "outputs": [],
      "source": [
        "model_filename = \"ridge_model.joblib\"\n",
        "loaded_model = joblib.load(model_filename)\n",
        "joblib.dump(model, 'ridge_model.pkl')\n",
        "loaded_model1 = joblib.load('ridge_model.pkl')\n",
        "\n",
        "\n"
      ]
    },
    {
      "cell_type": "code",
      "execution_count": 567,
      "id": "1iE1yzWLfjn-",
      "metadata": {
        "colab": {
          "base_uri": "https://localhost:8080/"
        },
        "id": "1iE1yzWLfjn-",
        "outputId": "cb3394b3-97a9-4233-898e-d61cf6d54965"
      },
      "outputs": [
        {
          "name": "stdout",
          "output_type": "stream",
          "text": [
            "2024-01-19 00:00:00\n",
            "            prcp  tmax  tmin  rolling_3_tmax  rolling_3_tmax_pct  \\\n",
            "2024-01-19   0.0  27.0  20.0            27.0                 0.0   \n",
            "\n",
            "            rolling_3_tmin  rolling_3_tmin_pct  rolling_3_prcp  \\\n",
            "2024-01-19       20.666667           -0.032258        0.023333   \n",
            "\n",
            "            rolling_3_prcp_pct  rolling_14_tmax  ...  rolling_14_tmin  \\\n",
            "2024-01-19                -1.0        27.142857  ...        21.428571   \n",
            "\n",
            "            rolling_14_tmin_pct  rolling_14_prcp  rolling_14_prcp_pct  \\\n",
            "2024-01-19            -0.066667         0.021429                 -1.0   \n",
            "\n",
            "            month_avg_tmax  day_avg_tmax  month_avg_tmin  day_avg_tmin  \\\n",
            "2024-01-19       24.554559     24.363636       19.600897     19.181818   \n",
            "\n",
            "            month_avg_prcp  day_avg_prcp  \n",
            "2024-01-19        0.110389      0.163636  \n",
            "\n",
            "[1 rows x 21 columns]\n"
          ]
        }
      ],
      "source": [
        "# Lấy ngày cuối cùng trong tập dữ liệu\n",
        "last_date = weather.index[-1]\n",
        "\n",
        "# Tạo một DataFrame mới với cùng các đặc trưng như tập dữ liệu hiện tại cho 1 ngày tiếp theo\n",
        "new_date = last_date + pd.Timedelta(days=1)\n",
        "new_data = pd.DataFrame(index=[new_date], columns=predictors)\n",
        "\n",
        "print(new_date)\n",
        "\n",
        "\n",
        "# Lấy giá trị của các đặc trưng của ngày cuối cùng và gán chúng cho ngày mới\n",
        "last_values = weather[predictors].iloc[-1]\n",
        "new_data[predictors] = last_values.values\n",
        "print(new_data[predictors])\n",
        "\n",
        "\n",
        "\n",
        "# Đảm bảo rằng cột 'index' của 'new_data' là kiểu datetime\n",
        "new_data.index = pd.to_datetime(new_data.index)\n",
        "\n",
        "\n",
        "# Sử dụng mô hình Ridge để dự đoán cho ngày tiếp theo\n",
        "prediction_for_next_day = loaded_model.predict(new_data[predictors])\n",
        "\n",
        "# Làm tròn giá trị dự đoán và chuyển đổi chúng sang kiểu int64\n",
        "prediction_for_next_day_int = prediction_for_next_day.round().astype('int')\n",
        "\n",
        "# Tạo DataFrame mới chứa dự đoán và ngày tương ứng\n",
        "prediction_df = pd.DataFrame(index=new_data.index, columns=[\"Prediction\"])\n",
        "prediction_df[\"Prediction\"] = prediction_for_next_day_int\n",
        "\n",
        "# Hiển thị dự đoán cho ngày tiếp theo\n"
      ]
    },
    {
      "cell_type": "code",
      "execution_count": null,
      "id": "974b643b",
      "metadata": {},
      "outputs": [
        {
          "name": "stdout",
          "output_type": "stream",
          "text": [
            "2024-01-18 00:00:00\n"
          ]
        }
      ],
      "source": [
        "last_date = weather.index[-1]\n",
        "print(last_date)\n"
      ]
    },
    {
      "cell_type": "code",
      "execution_count": null,
      "id": "73b40a1d",
      "metadata": {},
      "outputs": [
        {
          "data": {
            "text/plain": [
              "['ridge_model.pkl']"
            ]
          },
          "execution_count": 525,
          "metadata": {},
          "output_type": "execute_result"
        }
      ],
      "source": [
        "joblib.dump(model, 'ridge_model.pkl')\n"
      ]
    },
    {
      "cell_type": "code",
      "execution_count": null,
      "id": "778363cd",
      "metadata": {},
      "outputs": [
        {
          "name": "stdout",
          "output_type": "stream",
          "text": [
            "            Prediction\n",
            "2024-01-19          27\n"
          ]
        }
      ],
      "source": [
        "print(prediction_df)\n",
        "\n"
      ]
    },
    {
      "cell_type": "code",
      "execution_count": null,
      "id": "9815dfa5",
      "metadata": {},
      "outputs": [],
      "source": []
    }
  ],
  "metadata": {
    "colab": {
      "provenance": []
    },
    "kernelspec": {
      "display_name": "Python 3 (ipykernel)",
      "language": "python",
      "name": "python3"
    },
    "language_info": {
      "codemirror_mode": {
        "name": "ipython",
        "version": 3
      },
      "file_extension": ".py",
      "mimetype": "text/x-python",
      "name": "python",
      "nbconvert_exporter": "python",
      "pygments_lexer": "ipython3",
      "version": "3.11.5"
    }
  },
  "nbformat": 4,
  "nbformat_minor": 5
}
